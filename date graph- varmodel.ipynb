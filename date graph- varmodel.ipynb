{
 "cells": [
  {
   "cell_type": "code",
   "execution_count": 67,
   "id": "be577af1",
   "metadata": {},
   "outputs": [],
   "source": [
    "import pyspark\n",
    "from azure.storage.blob import BlobServiceClient\n",
    "from pyspark.sql import SparkSession\n",
    "from pyspark.sql import SQLContext\n",
    "from pyspark.sql.types import StructType, StructField, StringType, FloatType, DoubleType, IntegerType, LongType\n",
    "from pyspark.sql.functions import count,lit, when,col,expr, udf, avg,to_date,broadcast,regexp_replace,last,lpad,concat_ws,date_format,year,month\n",
    "from pyspark.sql import Window\n",
    "import sys\n",
    "from pyspark import SparkContext\n",
    "import pyspark.sql \n",
    "\n",
    "import pandas as pd\n",
    "import matplotlib.pyplot as plt\n",
    "\n",
    "\n",
    "\n",
    "STORAGEACCOUNTURL = \"https://trainingbatchaccount.blob.core.windows.net\"\n",
    "STORAGEACCOUNTKEY = \"2QPPHsAtQ8/fh33VE7wqg/ZaeJoxdq/pnevAEmCh0n32tC5eXa8dTEEwMHdD9Ff5k1/wVh97aubqgKzQSwOLnQ==\"\n",
    "CONTAINERNAME = \"datasets\"\n",
    "# HOSPITALIZATION = \"economy.csv\"\n",
    "# INDEX = \"index.csv\"\n",
    "\n",
    "\n",
    "spark = SparkSession.builder.appName('azure').getOrCreate()\n",
    "spark.conf.set(\n",
    "        \"fs.azure.account.key.trainingbatchaccount.blob.core.windows.net\",\n",
    "        STORAGEACCOUNTKEY\n",
    "    \n",
    ")\n",
    "\n",
    "#-----------------------------Schema for hospitalizations dataset-------------------------------\n",
    "\n",
    "hospitalizations_schema = StructType([StructField(\"date\",StringType(), True),\\\n",
    "    StructField(\"location_key\",StringType(), True),\\\n",
    "    StructField(\"new_hospitalized_patients\", IntegerType(), True),\\\n",
    "    StructField(\"cumulative_hospitalized_patients\", IntegerType(), True),\\\n",
    "    StructField(\"current_hospitalized_patients\", IntegerType(), True),\\\n",
    "    StructField(\"new_intensive_care_patients\", IntegerType(), True),\\\n",
    "    StructField(\"cumulative_intensive_care_patients\", IntegerType(), True),\\\n",
    "    StructField(\"current_intensive_care_patients\", IntegerType(), True),\\\n",
    "    StructField(\"new_ventilator_patients\", StringType(), True),\\\n",
    "    StructField(\"cumulative_ventilator_patients\", StringType(), True),\\\n",
    "    StructField(\"current_ventilator_patients\", IntegerType(), True)])\n",
    "\n",
    "#-----------------------------Schema for vaccination dataset-------------------------------  \n",
    "\n",
    "vaccination_schema = StructType([StructField(\"date\",StringType(), True),\\\n",
    "    StructField(\"location_key\",StringType(), True),\\\n",
    "    StructField(\"new_persons_vaccinated\", IntegerType(), True),\\\n",
    "    StructField(\"cumulative_persons_vaccinated\", IntegerType(), True),\\\n",
    "    StructField(\"new_persons_fully_vaccinated\", IntegerType(), True),\\\n",
    "    StructField(\"cumulative_persons_fully_vaccinated\", IntegerType(), True),\\\n",
    "    StructField(\"new_vaccine_doses_administered\", IntegerType(), True),\\\n",
    "    StructField(\"cumulative_vaccine_doses_administered\", LongType(), True),\\\n",
    "    StructField(\"new_persons_vaccinated_pfizer\", IntegerType(), True),\\\n",
    "    StructField(\"cumulative_persons_vaccinated_pfizer\", IntegerType(), True),\\\n",
    "    StructField(\"new_persons_fully_vaccinated_pfizer\", IntegerType(), True),\\\n",
    "    StructField(\"cumulative_persons_fully_vaccinated_pfizer\", IntegerType(), True),\\\n",
    "    StructField(\"new_vaccine_doses_administered_pfizer\", IntegerType(), True),\\\n",
    "    StructField(\"cumulative_vaccine_doses_administered_pfizer\", IntegerType(), True),\\\n",
    "    StructField(\"new_persons_vaccinated_moderna\", IntegerType(), True),\\\n",
    "    StructField(\"cumulative_persons_vaccinated_moderna\", IntegerType(), True),\\\n",
    "    StructField(\"new_persons_fully_vaccinated_moderna\", IntegerType(), True),\\\n",
    "    StructField(\"cumulative_persons_fully_vaccinated_moderna\", IntegerType(), True),\\\n",
    "    StructField(\"new_vaccine_doses_administered_moderna\", IntegerType(), True),\\\n",
    "    StructField(\"cumulative_vaccine_doses_administered_moderna\", IntegerType(), True),\\\n",
    "    StructField(\"new_persons_vaccinated_janssen\", IntegerType(), True),\\\n",
    "    StructField(\"cumulative_persons_vaccinated_janssen\", IntegerType(), True),\\\n",
    "    StructField(\"new_persons_fully_vaccinated_janssen\", IntegerType(), True),\\\n",
    "    StructField(\"cumulative_persons_fully_vaccinated_janssen\", IntegerType(), True),\\\n",
    "    StructField(\"new_vaccine_doses_administered_janssen\", IntegerType(), True),\\\n",
    "    StructField(\"cumulative_vaccine_doses_administered_janssen\", IntegerType(), True),\\\n",
    "    StructField(\"new_persons_vaccinated_sinovac\", IntegerType(), True),\\\n",
    "    StructField(\"total_persons_vaccinated_sinovac\", IntegerType(), True),\\\n",
    "    StructField(\"new_persons_fully_vaccinated_sinovac\", StringType(), True),\\\n",
    "    StructField(\"total_persons_fully_vaccinated_sinovac\", StringType(), True),\\\n",
    "    StructField(\"new_vaccine_doses_administered_sinovac\", StringType(), True),\\\n",
    "    StructField(\"total_vaccine_doses_administered_sinovac\", StringType(), True)])\n",
    "  #-----------------------------Schema for epidemiology dataset-------------------------------\n",
    "\n",
    "epidemiology_schema = StructType([StructField(\"date\",StringType(), True),\\\n",
    "    StructField(\"location_key\",StringType(), True),\\\n",
    "    StructField(\"new_confirmed\", IntegerType(), True),\\\n",
    "    StructField(\"new_deceased\", IntegerType(), True),\\\n",
    "    StructField(\"new_recovered\", IntegerType(), True),\\\n",
    "    StructField(\"new_tested\", IntegerType(), True),\\\n",
    "    StructField(\"cumulative_confirmed\", IntegerType(), True),\\\n",
    "    StructField(\"cumulative_deceased\", IntegerType(), True),\\\n",
    "    StructField(\"cumulative_recovered\", IntegerType(), True),\\\n",
    "    StructField(\"cumulative_tested\", IntegerType(), True)])\n",
    "\n",
    "  \n",
    "\n",
    "hosp_df = spark.read.format('csv').option('header',True).schema(hospitalizations_schema).load(\"wasbs://datasets@trainingbatchaccount.blob.core.windows.net/hospitalizations.csv\")\n",
    "vacc_df = spark.read.format('csv').option('header',True).schema(vaccination_schema).load(\"wasbs://datasets@trainingbatchaccount.blob.core.windows.net/vaccinations.csv\")\n",
    "epi_df = spark.read.format('csv').option('header',True).schema(epidemiology_schema).load(\"wasbs://datasets@trainingbatchaccount.blob.core.windows.net/epidemiology.csv\")\n",
    "\n"
   ]
  },
  {
   "cell_type": "code",
   "execution_count": 68,
   "id": "3020cc02",
   "metadata": {},
   "outputs": [],
   "source": [
    "# to find shape of dataframe \n",
    "def sparkShape(dataFrame):\n",
    "    return (dataFrame.count(), len(dataFrame.columns))\n",
    "pyspark.sql.dataframe.DataFrame.shape = sparkShape\n",
    "\n",
    "spark.conf.set('spark.sql.repl.eagerEval.enabled', True)"
   ]
  },
  {
   "cell_type": "code",
   "execution_count": 69,
   "id": "f097d777",
   "metadata": {},
   "outputs": [],
   "source": [
    "from pyspark.sql import SparkSession\n",
    "import functools\n",
    " "
   ]
  },
  {
   "cell_type": "code",
   "execution_count": 70,
   "id": "19012675",
   "metadata": {},
   "outputs": [],
   "source": [
    "#---------------------------------Opening hospitalization dataset and cleaning it----------------\n",
    "\n",
    "hosp_df = hosp_df.withColumn('Date',to_date(hosp_df['date'],'dd-MM-yyyy'))\n",
    "#fill empty values with zero\n",
    "hosp_df = hosp_df.fillna(value = 0, subset = ['new_hospitalized_patients','current_hospitalized_patients','current_intensive_care_patients','new_ventilator_patients','cumulative_ventilator_patients','current_ventilator_patients'])\n",
    "#drop unwanted column\n",
    "hosp_df = hosp_df.drop('cumulative_ventilator_patients','new_ventilator_patients')\n",
    "hosp_df = hosp_df.where((hosp_df.location_key == 'AR')&(hosp_df.Date >= '2021-01-01')&(hosp_df.Date <= '2021-12-31'))\n"
   ]
  },
  {
   "cell_type": "code",
   "execution_count": 71,
   "id": "894f02b1",
   "metadata": {},
   "outputs": [],
   "source": [
    " #---------------------------------Opening epidemology dataset and cleaning it----------------\n",
    "    \n",
    "# epi_df = epi_df.withColumn('date',to_date(epi_df['date'],format='yyyy-mm-dd'))\n",
    "# epi_df = epi_df.na.fill(value=0)\n",
    "\n",
    "\n",
    "#correct date format\n",
    "epi_df = epi_df.withColumn('Date',to_date(epi_df['date'],format='yyyy-MM-dd'))\n",
    "epi_df = epi_df.na.fill(value=0)\n",
    "# vacc_df = vacc_df.withColumn('Date_1',(vacc_df['Date']))\n",
    "# vacc_df = vacc_df.withColumn(\"Date_string\",vacc_df.Date.cast(StringType()))\n",
    "epi_df = epi_df.where((epi_df.location_key == 'AR')&(epi_df.Date >= '2021-01-01')&(epi_df.Date <= '2021-12-31'))\n",
    "epi_df = epi_df.drop('location_key')"
   ]
  },
  {
   "cell_type": "code",
   "execution_count": 72,
   "id": "98476794",
   "metadata": {},
   "outputs": [
    {
     "name": "stdout",
     "output_type": "stream",
     "text": [
      "root\n",
      " |-- Date: date (nullable = true)\n",
      " |-- new_confirmed: integer (nullable = true)\n",
      " |-- new_deceased: integer (nullable = true)\n",
      " |-- new_recovered: integer (nullable = true)\n",
      " |-- new_tested: integer (nullable = true)\n",
      " |-- cumulative_confirmed: integer (nullable = true)\n",
      " |-- cumulative_deceased: integer (nullable = true)\n",
      " |-- cumulative_recovered: integer (nullable = true)\n",
      " |-- cumulative_tested: integer (nullable = true)\n",
      "\n"
     ]
    }
   ],
   "source": [
    "epi_df.printSchema()"
   ]
  },
  {
   "cell_type": "code",
   "execution_count": 73,
   "id": "b05879d3",
   "metadata": {},
   "outputs": [],
   "source": [
    " #---------------------------------Opening vaccination dataset and cleaning it----------------\n",
    "    \n",
    "#selecting needed columns only\n",
    "vacc_df = vacc_df.select(\"date\",\"location_key\",\"new_persons_vaccinated\",\"cumulative_persons_vaccinated\",\"new_persons_fully_vaccinated\",\"cumulative_persons_fully_vaccinated\",\"new_vaccine_doses_administered\",\"cumulative_vaccine_doses_administered\")\n",
    "\n",
    "#Drop rows if all the values are null\n",
    "vacc_df = vacc_df.na.drop(subset=[\"new_persons_vaccinated\",\"cumulative_persons_vaccinated\",\"new_persons_fully_vaccinated\",\"cumulative_persons_fully_vaccinated\",\"new_vaccine_doses_administered\",\"cumulative_vaccine_doses_administered\"] ,how=\"all\")\n",
    "\n",
    "#fill cumulative value with previous field value (Forward Fill)\n",
    "vacc_df = vacc_df.withColumn(\"cumulative_persons_vaccinated\", last('cumulative_persons_vaccinated', True).over(Window.partitionBy('location_key').rowsBetween(-sys.maxsize, 0)))\n",
    "vacc_df = vacc_df.withColumn(\"cumulative_persons_fully_vaccinated\",last('cumulative_persons_fully_vaccinated', True).over(Window.partitionBy('location_key').rowsBetween(-sys.maxsize, 0)))\n",
    "vacc_df = vacc_df.withColumn(\"cumulative_vaccine_doses_administered\",last('cumulative_vaccine_doses_administered', True).over(Window.partitionBy('location_key').rowsBetween(-sys.maxsize, 0)))\n",
    "\n",
    "#replace null with zero\n",
    "vacc_df = vacc_df.na.fill(value=0)\n",
    "\n",
    "#correct date format\n",
    "vacc_df = vacc_df.withColumn('Date',to_date(vacc_df['Date'],format='yyyy-MM-dd'))\n",
    "# vacc_df = vacc_df.withColumn('Date_1',(vacc_df['Date']))\n",
    "# vacc_df = vacc_df.withColumn(\"Date_string\",vacc_df.Date.cast(StringType()))\n",
    "vacc_df = vacc_df.where((vacc_df.location_key == 'AR')&(vacc_df.Date >= '2021-01-01')&(vacc_df.Date <= '2021-12-31'))\n",
    "#  hosp_df.where((hosp_df.location_key == 'AR')&(hosp_df.Date >= '2021-01-01')&(hosp_df.Date <= '2021-12-31'))\n",
    "vacc_df = vacc_df.drop('location_key')\n",
    "    "
   ]
  },
  {
   "cell_type": "code",
   "execution_count": 74,
   "id": "bd78b633",
   "metadata": {},
   "outputs": [
    {
     "name": "stdout",
     "output_type": "stream",
     "text": [
      "root\n",
      " |-- Date: date (nullable = true)\n",
      " |-- location_key: string (nullable = true)\n",
      " |-- new_hospitalized_patients: integer (nullable = true)\n",
      " |-- cumulative_hospitalized_patients: integer (nullable = true)\n",
      " |-- current_hospitalized_patients: integer (nullable = true)\n",
      " |-- new_intensive_care_patients: integer (nullable = true)\n",
      " |-- cumulative_intensive_care_patients: integer (nullable = true)\n",
      " |-- current_intensive_care_patients: integer (nullable = true)\n",
      " |-- current_ventilator_patients: integer (nullable = true)\n",
      "\n",
      "root\n",
      " |-- Date: date (nullable = true)\n",
      " |-- new_persons_vaccinated: integer (nullable = true)\n",
      " |-- cumulative_persons_vaccinated: integer (nullable = true)\n",
      " |-- new_persons_fully_vaccinated: integer (nullable = true)\n",
      " |-- cumulative_persons_fully_vaccinated: integer (nullable = true)\n",
      " |-- new_vaccine_doses_administered: integer (nullable = true)\n",
      " |-- cumulative_vaccine_doses_administered: long (nullable = true)\n",
      "\n",
      "root\n",
      " |-- Date: date (nullable = true)\n",
      " |-- new_confirmed: integer (nullable = true)\n",
      " |-- new_deceased: integer (nullable = true)\n",
      " |-- new_recovered: integer (nullable = true)\n",
      " |-- new_tested: integer (nullable = true)\n",
      " |-- cumulative_confirmed: integer (nullable = true)\n",
      " |-- cumulative_deceased: integer (nullable = true)\n",
      " |-- cumulative_recovered: integer (nullable = true)\n",
      " |-- cumulative_tested: integer (nullable = true)\n",
      "\n"
     ]
    }
   ],
   "source": [
    "hosp_df.printSchema()\n",
    "vacc_df.printSchema()\n",
    "epi_df.printSchema()"
   ]
  },
  {
   "cell_type": "code",
   "execution_count": 90,
   "id": "8ae7e864",
   "metadata": {
    "scrolled": true
   },
   "outputs": [],
   "source": [
    "# joining \n",
    "# hosp_df\n",
    "# vacc_df\n",
    "# \n",
    "df_hosp_vacc = hosp_df.join(vacc_df,['Date'],\"inner\")\n",
    "\n",
    "df_hosp_vacc_epi = df_hosp_vacc.join(epi_df,['Date'],\"inner\")\n",
    "# df_hosp_vacc_epi = df_hosp_vacc_epi.sort_values(by='Date')\n",
    "# df_hosp_vacc = hosp_df.join(vacc_df,hosp_df.Date ==  vacc_df.Date,\"inner\")\n",
    "\n",
    "\n",
    "# df_hosp_vacc_epi.show(truncate=False)\n",
    "\n",
    "\n"
   ]
  },
  {
   "cell_type": "code",
   "execution_count": 91,
   "id": "a515a736",
   "metadata": {},
   "outputs": [],
   "source": [
    "# df_hosp_vacc_epi.toPandas().to_csv(\"df_hosp_vacc_epi_1.csv\")"
   ]
  },
  {
   "cell_type": "code",
   "execution_count": 92,
   "id": "ef0639e0",
   "metadata": {},
   "outputs": [],
   "source": [
    "# df_hosp_vacc_epi.printSchema()"
   ]
  },
  {
   "cell_type": "code",
   "execution_count": 93,
   "id": "4aabfb99",
   "metadata": {},
   "outputs": [],
   "source": [
    "# df_hosp_vacc_epi.printSchema()"
   ]
  },
  {
   "cell_type": "code",
   "execution_count": 94,
   "id": "6180be9f",
   "metadata": {},
   "outputs": [],
   "source": [
    "# df_hosp_vacc_epi.printSchema()"
   ]
  },
  {
   "cell_type": "code",
   "execution_count": 95,
   "id": "14330719",
   "metadata": {},
   "outputs": [],
   "source": [
    "df_hosp_vacc_epi=df_hosp_vacc_epi.drop('location_key')\n",
    "\n",
    "\n",
    "df_hosp_vacc_epi=df_hosp_vacc_epi.toPandas()\n",
    "# df_hosp_vacc_epi['Date'] = pd.to_datetime(df_hosp_vacc_epi.Date , format = '%Y-%m-%d')"
   ]
  },
  {
   "cell_type": "code",
   "execution_count": 12,
   "id": "f9f8184e",
   "metadata": {},
   "outputs": [],
   "source": [
    "# df_hosp_vacc_epi= df_hosp_vacc_epi.set_index('Date')"
   ]
  },
  {
   "cell_type": "code",
   "execution_count": 96,
   "id": "292183f3",
   "metadata": {},
   "outputs": [
    {
     "data": {
      "text/plain": [
       "Date                                     object\n",
       "new_hospitalized_patients                 int32\n",
       "cumulative_hospitalized_patients          int32\n",
       "current_hospitalized_patients             int32\n",
       "new_intensive_care_patients               int32\n",
       "cumulative_intensive_care_patients        int32\n",
       "current_intensive_care_patients           int32\n",
       "current_ventilator_patients               int32\n",
       "new_persons_vaccinated                    int32\n",
       "cumulative_persons_vaccinated             int32\n",
       "new_persons_fully_vaccinated              int32\n",
       "cumulative_persons_fully_vaccinated       int32\n",
       "new_vaccine_doses_administered            int32\n",
       "cumulative_vaccine_doses_administered     int64\n",
       "new_confirmed                             int32\n",
       "new_deceased                              int32\n",
       "new_recovered                             int32\n",
       "new_tested                                int32\n",
       "cumulative_confirmed                      int32\n",
       "cumulative_deceased                       int32\n",
       "cumulative_recovered                      int32\n",
       "cumulative_tested                         int32\n",
       "dtype: object"
      ]
     },
     "execution_count": 96,
     "metadata": {},
     "output_type": "execute_result"
    }
   ],
   "source": [
    "df_hosp_vacc_epi.dtypes"
   ]
  },
  {
   "cell_type": "code",
   "execution_count": 97,
   "id": "bbf50040",
   "metadata": {},
   "outputs": [],
   "source": [
    "\n",
    "df_hosp_vacc_epi =df_hosp_vacc_epi[['Date', 'new_hospitalized_patients', 'new_persons_vaccinated', 'new_persons_fully_vaccinated', 'new_confirmed', 'new_deceased', 'new_tested','new_tested']]"
   ]
  },
  {
   "cell_type": "code",
   "execution_count": 98,
   "id": "674a3d49",
   "metadata": {
    "scrolled": true
   },
   "outputs": [
    {
     "data": {
      "text/plain": [
       "Date                            object\n",
       "new_hospitalized_patients        int32\n",
       "new_persons_vaccinated           int32\n",
       "new_persons_fully_vaccinated     int32\n",
       "new_confirmed                    int32\n",
       "new_deceased                     int32\n",
       "new_tested                       int32\n",
       "new_tested                       int32\n",
       "dtype: object"
      ]
     },
     "execution_count": 98,
     "metadata": {},
     "output_type": "execute_result"
    }
   ],
   "source": [
    "df_hosp_vacc_epi.dtypes\n",
    "# df_hosp_vacc_epi['Date'] = pd.to_datetime(df_hosp_vacc_epi.Date , format = '%Y-%M-%d')\n",
    "# df_hosp_vacc_epi = df_hosp_vacc_epi.sort_values(by='Date')"
   ]
  },
  {
   "cell_type": "code",
   "execution_count": 99,
   "id": "68b33d2c",
   "metadata": {},
   "outputs": [],
   "source": [
    "df_hosp_vacc_epi['Date'] = pd.to_datetime(df_hosp_vacc_epi.Date , format = '%Y-%m-%d')\n",
    "\n",
    "df_hosp_vacc_epi = df_hosp_vacc_epi.sort_values(by='Date')\n",
    "\n",
    "\n",
    "# data = df_hosp_vacc_epi.drop(['Date'], axis=1)\n",
    "# data.index = df_hosp_vacc_epi.Date"
   ]
  },
  {
   "cell_type": "code",
   "execution_count": 100,
   "id": "58fdaec9",
   "metadata": {},
   "outputs": [
    {
     "data": {
      "text/html": [
       "<div>\n",
       "<style scoped>\n",
       "    .dataframe tbody tr th:only-of-type {\n",
       "        vertical-align: middle;\n",
       "    }\n",
       "\n",
       "    .dataframe tbody tr th {\n",
       "        vertical-align: top;\n",
       "    }\n",
       "\n",
       "    .dataframe thead th {\n",
       "        text-align: right;\n",
       "    }\n",
       "</style>\n",
       "<table border=\"1\" class=\"dataframe\">\n",
       "  <thead>\n",
       "    <tr style=\"text-align: right;\">\n",
       "      <th></th>\n",
       "      <th>Date</th>\n",
       "      <th>new_hospitalized_patients</th>\n",
       "      <th>new_persons_vaccinated</th>\n",
       "      <th>new_persons_fully_vaccinated</th>\n",
       "      <th>new_confirmed</th>\n",
       "      <th>new_deceased</th>\n",
       "      <th>new_tested</th>\n",
       "      <th>new_tested</th>\n",
       "    </tr>\n",
       "  </thead>\n",
       "  <tbody>\n",
       "    <tr>\n",
       "      <th>168</th>\n",
       "      <td>2021-01-01</td>\n",
       "      <td>450</td>\n",
       "      <td>15</td>\n",
       "      <td>0</td>\n",
       "      <td>2684</td>\n",
       "      <td>140</td>\n",
       "      <td>8171</td>\n",
       "      <td>8171</td>\n",
       "    </tr>\n",
       "    <tr>\n",
       "      <th>297</th>\n",
       "      <td>2021-01-02</td>\n",
       "      <td>575</td>\n",
       "      <td>410</td>\n",
       "      <td>0</td>\n",
       "      <td>7766</td>\n",
       "      <td>166</td>\n",
       "      <td>25659</td>\n",
       "      <td>25659</td>\n",
       "    </tr>\n",
       "    <tr>\n",
       "      <th>206</th>\n",
       "      <td>2021-01-03</td>\n",
       "      <td>504</td>\n",
       "      <td>52</td>\n",
       "      <td>0</td>\n",
       "      <td>4934</td>\n",
       "      <td>157</td>\n",
       "      <td>21208</td>\n",
       "      <td>21208</td>\n",
       "    </tr>\n",
       "    <tr>\n",
       "      <th>225</th>\n",
       "      <td>2021-01-04</td>\n",
       "      <td>759</td>\n",
       "      <td>1465</td>\n",
       "      <td>1</td>\n",
       "      <td>13952</td>\n",
       "      <td>157</td>\n",
       "      <td>43432</td>\n",
       "      <td>43432</td>\n",
       "    </tr>\n",
       "    <tr>\n",
       "      <th>69</th>\n",
       "      <td>2021-01-05</td>\n",
       "      <td>650</td>\n",
       "      <td>1514</td>\n",
       "      <td>0</td>\n",
       "      <td>14083</td>\n",
       "      <td>160</td>\n",
       "      <td>46793</td>\n",
       "      <td>46793</td>\n",
       "    </tr>\n",
       "  </tbody>\n",
       "</table>\n",
       "</div>"
      ],
      "text/plain": [
       "          Date  new_hospitalized_patients  new_persons_vaccinated  \\\n",
       "168 2021-01-01                        450                      15   \n",
       "297 2021-01-02                        575                     410   \n",
       "206 2021-01-03                        504                      52   \n",
       "225 2021-01-04                        759                    1465   \n",
       "69  2021-01-05                        650                    1514   \n",
       "\n",
       "     new_persons_fully_vaccinated  new_confirmed  new_deceased  new_tested  \\\n",
       "168                             0           2684           140        8171   \n",
       "297                             0           7766           166       25659   \n",
       "206                             0           4934           157       21208   \n",
       "225                             1          13952           157       43432   \n",
       "69                              0          14083           160       46793   \n",
       "\n",
       "     new_tested  \n",
       "168        8171  \n",
       "297       25659  \n",
       "206       21208  \n",
       "225       43432  \n",
       "69        46793  "
      ]
     },
     "execution_count": 100,
     "metadata": {},
     "output_type": "execute_result"
    }
   ],
   "source": [
    "df_hosp_vacc_epi.head(5)"
   ]
  },
  {
   "cell_type": "code",
   "execution_count": 101,
   "id": "8abd64df",
   "metadata": {},
   "outputs": [],
   "source": [
    "df_hosp_vacc_epi= df_hosp_vacc_epi.set_index('Date')"
   ]
  },
  {
   "cell_type": "code",
   "execution_count": 40,
   "id": "15aaa5ea",
   "metadata": {},
   "outputs": [],
   "source": [
    "# from statsmodels.graphics.tsaplots import plot_acf, plot_pacf\n",
    "# from statsmodels.tsa.statespace.varmax import VARMAX\n",
    "# from statsmodels.tsa.api import VAR\n",
    "# from statsmodels.tsa.stattools import grangercausalitytests, adfuller\n",
    "# from tqdm import tqdm_notebook\n",
    "# from itertools import product"
   ]
  },
  {
   "cell_type": "code",
   "execution_count": 102,
   "id": "2b05249a",
   "metadata": {},
   "outputs": [
    {
     "ename": "IndexError",
     "evalue": "index 7 is out of bounds for axis 0 with size 7",
     "output_type": "error",
     "traceback": [
      "\u001b[1;31m---------------------------------------------------------------------------\u001b[0m",
      "\u001b[1;31mIndexError\u001b[0m                                Traceback (most recent call last)",
      "Input \u001b[1;32mIn [102]\u001b[0m, in \u001b[0;36m<module>\u001b[1;34m\u001b[0m\n\u001b[0;32m      1\u001b[0m fig, axes \u001b[38;5;241m=\u001b[39m plt\u001b[38;5;241m.\u001b[39msubplots(nrows\u001b[38;5;241m=\u001b[39m\u001b[38;5;241m4\u001b[39m, ncols\u001b[38;5;241m=\u001b[39m\u001b[38;5;241m2\u001b[39m, dpi\u001b[38;5;241m=\u001b[39m\u001b[38;5;241m120\u001b[39m, figsize\u001b[38;5;241m=\u001b[39m(\u001b[38;5;241m10\u001b[39m,\u001b[38;5;241m6\u001b[39m))\n\u001b[0;32m      2\u001b[0m \u001b[38;5;28;01mfor\u001b[39;00m i, ax \u001b[38;5;129;01min\u001b[39;00m \u001b[38;5;28menumerate\u001b[39m(axes\u001b[38;5;241m.\u001b[39mflatten()):\n\u001b[1;32m----> 3\u001b[0m     data \u001b[38;5;241m=\u001b[39m df_hosp_vacc_epi[\u001b[43mdf_hosp_vacc_epi\u001b[49m\u001b[38;5;241;43m.\u001b[39;49m\u001b[43mcolumns\u001b[49m\u001b[43m[\u001b[49m\u001b[43mi\u001b[49m\u001b[43m]\u001b[49m]\n\u001b[0;32m      4\u001b[0m     ax\u001b[38;5;241m.\u001b[39mplot(data, color\u001b[38;5;241m=\u001b[39m\u001b[38;5;124m'\u001b[39m\u001b[38;5;124mred\u001b[39m\u001b[38;5;124m'\u001b[39m, linewidth\u001b[38;5;241m=\u001b[39m\u001b[38;5;241m1\u001b[39m)\n\u001b[0;32m      5\u001b[0m     \u001b[38;5;66;03m# Decorations\u001b[39;00m\n",
      "File \u001b[1;32m~\\AppData\\Local\\Programs\\Python\\Python310\\lib\\site-packages\\pandas\\core\\indexes\\base.py:5039\u001b[0m, in \u001b[0;36mIndex.__getitem__\u001b[1;34m(self, key)\u001b[0m\n\u001b[0;32m   5036\u001b[0m \u001b[38;5;28;01mif\u001b[39;00m is_integer(key) \u001b[38;5;129;01mor\u001b[39;00m is_float(key):\n\u001b[0;32m   5037\u001b[0m     \u001b[38;5;66;03m# GH#44051 exclude bool, which would return a 2d ndarray\u001b[39;00m\n\u001b[0;32m   5038\u001b[0m     key \u001b[38;5;241m=\u001b[39m com\u001b[38;5;241m.\u001b[39mcast_scalar_indexer(key, warn_float\u001b[38;5;241m=\u001b[39m\u001b[38;5;28;01mTrue\u001b[39;00m)\n\u001b[1;32m-> 5039\u001b[0m     \u001b[38;5;28;01mreturn\u001b[39;00m \u001b[43mgetitem\u001b[49m\u001b[43m(\u001b[49m\u001b[43mkey\u001b[49m\u001b[43m)\u001b[49m\n\u001b[0;32m   5041\u001b[0m \u001b[38;5;28;01mif\u001b[39;00m \u001b[38;5;28misinstance\u001b[39m(key, \u001b[38;5;28mslice\u001b[39m):\n\u001b[0;32m   5042\u001b[0m     \u001b[38;5;66;03m# This case is separated from the conditional above to avoid\u001b[39;00m\n\u001b[0;32m   5043\u001b[0m     \u001b[38;5;66;03m# pessimization com.is_bool_indexer and ndim checks.\u001b[39;00m\n\u001b[0;32m   5044\u001b[0m     result \u001b[38;5;241m=\u001b[39m getitem(key)\n",
      "\u001b[1;31mIndexError\u001b[0m: index 7 is out of bounds for axis 0 with size 7"
     ]
    },
    {
     "data": {
      "image/png": "[encoded data removed]",
      "text/plain": [
       "<Figure size 1200x720 with 8 Axes>"
      ]
     },
     "metadata": {
      "needs_background": "light"
     },
     "output_type": "display_data"
    }
   ],
   "source": [
    "fig, axes = plt.subplots(nrows=4, ncols=2, dpi=120, figsize=(10,6))\n",
    "for i, ax in enumerate(axes.flatten()):\n",
    "    data = df_hosp_vacc_epi[df_hosp_vacc_epi.columns[i]]\n",
    "    ax.plot(data, color='red', linewidth=1)\n",
    "    # Decorations\n",
    "    ax.set_title(df_hosp_vacc_epi.columns[i])\n",
    "    ax.xaxis.set_ticks_position('none')\n",
    "    ax.yaxis.set_ticks_position('none')\n",
    "    ax.spines[\"top\"].set_alpha(0)\n",
    "    ax.tick_params(labelsize=6)\n",
    "\n",
    "plt.tight_layout();"
   ]
  },
  {
   "cell_type": "code",
   "execution_count": 103,
   "id": "d11b307c",
   "metadata": {},
   "outputs": [
    {
     "data": {
      "image/png": "[encoded data removed]",
      "text/plain": [
       "<Figure size 1008x576 with 1 Axes>"
      ]
     },
     "metadata": {
      "needs_background": "light"
     },
     "output_type": "display_data"
    }
   ],
   "source": [
    "import seaborn as sns\n",
    "import matplotlib.pyplot as ply\n",
    "fig, ax = plt.subplots(figsize=(14,8))\n",
    "ax = sns.boxplot(x='variable', y='value', data=pd.melt(df_hosp_vacc_epi))\n",
    "ax.set_xlabel('column name ')\n",
    "ax.set_ylabel('MEDV')\n",
    "plt.show()"
   ]
  },
  {
   "cell_type": "code",
   "execution_count": 104,
   "id": "cca6d70b",
   "metadata": {},
   "outputs": [],
   "source": [
    "# scaling the data\n",
    "\n",
    "\n",
    "\n",
    "\n",
    "# from sklearn.preprocessing import StandardScaler\n"
   ]
  },
  {
   "cell_type": "code",
   "execution_count": 105,
   "id": "b68c2f7f",
   "metadata": {},
   "outputs": [
    {
     "data": {
      "text/html": [
       "<div>\n",
       "<style scoped>\n",
       "    .dataframe tbody tr th:only-of-type {\n",
       "        vertical-align: middle;\n",
       "    }\n",
       "\n",
       "    .dataframe tbody tr th {\n",
       "        vertical-align: top;\n",
       "    }\n",
       "\n",
       "    .dataframe thead th {\n",
       "        text-align: right;\n",
       "    }\n",
       "</style>\n",
       "<table border=\"1\" class=\"dataframe\">\n",
       "  <thead>\n",
       "    <tr style=\"text-align: right;\">\n",
       "      <th></th>\n",
       "      <th>new_hospitalized_patients</th>\n",
       "      <th>new_persons_vaccinated</th>\n",
       "      <th>new_persons_fully_vaccinated</th>\n",
       "      <th>new_confirmed</th>\n",
       "      <th>new_deceased</th>\n",
       "      <th>new_tested</th>\n",
       "      <th>new_tested</th>\n",
       "    </tr>\n",
       "    <tr>\n",
       "      <th>Date</th>\n",
       "      <th></th>\n",
       "      <th></th>\n",
       "      <th></th>\n",
       "      <th></th>\n",
       "      <th></th>\n",
       "      <th></th>\n",
       "      <th></th>\n",
       "    </tr>\n",
       "  </thead>\n",
       "  <tbody>\n",
       "    <tr>\n",
       "      <th>2021-01-01</th>\n",
       "      <td>450</td>\n",
       "      <td>15</td>\n",
       "      <td>0</td>\n",
       "      <td>2684</td>\n",
       "      <td>140</td>\n",
       "      <td>8171</td>\n",
       "      <td>8171</td>\n",
       "    </tr>\n",
       "    <tr>\n",
       "      <th>2021-01-02</th>\n",
       "      <td>575</td>\n",
       "      <td>410</td>\n",
       "      <td>0</td>\n",
       "      <td>7766</td>\n",
       "      <td>166</td>\n",
       "      <td>25659</td>\n",
       "      <td>25659</td>\n",
       "    </tr>\n",
       "    <tr>\n",
       "      <th>2021-01-03</th>\n",
       "      <td>504</td>\n",
       "      <td>52</td>\n",
       "      <td>0</td>\n",
       "      <td>4934</td>\n",
       "      <td>157</td>\n",
       "      <td>21208</td>\n",
       "      <td>21208</td>\n",
       "    </tr>\n",
       "    <tr>\n",
       "      <th>2021-01-04</th>\n",
       "      <td>759</td>\n",
       "      <td>1465</td>\n",
       "      <td>1</td>\n",
       "      <td>13952</td>\n",
       "      <td>157</td>\n",
       "      <td>43432</td>\n",
       "      <td>43432</td>\n",
       "    </tr>\n",
       "    <tr>\n",
       "      <th>2021-01-05</th>\n",
       "      <td>650</td>\n",
       "      <td>1514</td>\n",
       "      <td>0</td>\n",
       "      <td>14083</td>\n",
       "      <td>160</td>\n",
       "      <td>46793</td>\n",
       "      <td>46793</td>\n",
       "    </tr>\n",
       "  </tbody>\n",
       "</table>\n",
       "</div>"
      ],
      "text/plain": [
       "            new_hospitalized_patients  new_persons_vaccinated  \\\n",
       "Date                                                            \n",
       "2021-01-01                        450                      15   \n",
       "2021-01-02                        575                     410   \n",
       "2021-01-03                        504                      52   \n",
       "2021-01-04                        759                    1465   \n",
       "2021-01-05                        650                    1514   \n",
       "\n",
       "            new_persons_fully_vaccinated  new_confirmed  new_deceased  \\\n",
       "Date                                                                    \n",
       "2021-01-01                             0           2684           140   \n",
       "2021-01-02                             0           7766           166   \n",
       "2021-01-03                             0           4934           157   \n",
       "2021-01-04                             1          13952           157   \n",
       "2021-01-05                             0          14083           160   \n",
       "\n",
       "            new_tested  new_tested  \n",
       "Date                                \n",
       "2021-01-01        8171        8171  \n",
       "2021-01-02       25659       25659  \n",
       "2021-01-03       21208       21208  \n",
       "2021-01-04       43432       43432  \n",
       "2021-01-05       46793       46793  "
      ]
     },
     "execution_count": 105,
     "metadata": {},
     "output_type": "execute_result"
    }
   ],
   "source": [
    "# before scaling the dataframe\n",
    "\n",
    "df_hosp_vacc_epi.head(5)"
   ]
  },
  {
   "cell_type": "code",
   "execution_count": 106,
   "id": "1b937f5c",
   "metadata": {},
   "outputs": [],
   "source": [
    "from sklearn.preprocessing import StandardScaler\n",
    "scaler = StandardScaler()\n",
    "X_scaled = scaler.fit_transform(df_hosp_vacc_epi)\n",
    "scaled_df= pd.DataFrame(X_scaled,columns=list(df_hosp_vacc_epi))"
   ]
  },
  {
   "cell_type": "code",
   "execution_count": 107,
   "id": "bac28338",
   "metadata": {},
   "outputs": [
    {
     "data": {
      "text/html": [
       "<div>\n",
       "<style scoped>\n",
       "    .dataframe tbody tr th:only-of-type {\n",
       "        vertical-align: middle;\n",
       "    }\n",
       "\n",
       "    .dataframe tbody tr th {\n",
       "        vertical-align: top;\n",
       "    }\n",
       "\n",
       "    .dataframe thead th {\n",
       "        text-align: right;\n",
       "    }\n",
       "</style>\n",
       "<table border=\"1\" class=\"dataframe\">\n",
       "  <thead>\n",
       "    <tr style=\"text-align: right;\">\n",
       "      <th></th>\n",
       "      <th>new_hospitalized_patients</th>\n",
       "      <th>new_persons_vaccinated</th>\n",
       "      <th>new_persons_fully_vaccinated</th>\n",
       "      <th>new_confirmed</th>\n",
       "      <th>new_deceased</th>\n",
       "      <th>new_tested</th>\n",
       "      <th>new_tested</th>\n",
       "    </tr>\n",
       "  </thead>\n",
       "  <tbody>\n",
       "    <tr>\n",
       "      <th>0</th>\n",
       "      <td>-0.368193</td>\n",
       "      <td>-1.084693</td>\n",
       "      <td>-0.912319</td>\n",
       "      <td>-0.795366</td>\n",
       "      <td>-0.304480</td>\n",
       "      <td>-1.841382</td>\n",
       "      <td>-1.841382</td>\n",
       "    </tr>\n",
       "    <tr>\n",
       "      <th>1</th>\n",
       "      <td>0.057708</td>\n",
       "      <td>-1.055978</td>\n",
       "      <td>-0.912319</td>\n",
       "      <td>-0.323178</td>\n",
       "      <td>-0.160852</td>\n",
       "      <td>-1.006166</td>\n",
       "      <td>-1.006166</td>\n",
       "    </tr>\n",
       "    <tr>\n",
       "      <th>2</th>\n",
       "      <td>-0.184204</td>\n",
       "      <td>-1.082003</td>\n",
       "      <td>-0.912319</td>\n",
       "      <td>-0.586310</td>\n",
       "      <td>-0.210569</td>\n",
       "      <td>-1.218743</td>\n",
       "      <td>-1.218743</td>\n",
       "    </tr>\n",
       "    <tr>\n",
       "      <th>3</th>\n",
       "      <td>0.684634</td>\n",
       "      <td>-0.979284</td>\n",
       "      <td>-0.912248</td>\n",
       "      <td>0.251586</td>\n",
       "      <td>-0.210569</td>\n",
       "      <td>-0.157338</td>\n",
       "      <td>-0.157338</td>\n",
       "    </tr>\n",
       "    <tr>\n",
       "      <th>4</th>\n",
       "      <td>0.313248</td>\n",
       "      <td>-0.975722</td>\n",
       "      <td>-0.912319</td>\n",
       "      <td>0.263758</td>\n",
       "      <td>-0.193997</td>\n",
       "      <td>0.003181</td>\n",
       "      <td>0.003181</td>\n",
       "    </tr>\n",
       "  </tbody>\n",
       "</table>\n",
       "</div>"
      ],
      "text/plain": [
       "   new_hospitalized_patients  new_persons_vaccinated  \\\n",
       "0                  -0.368193               -1.084693   \n",
       "1                   0.057708               -1.055978   \n",
       "2                  -0.184204               -1.082003   \n",
       "3                   0.684634               -0.979284   \n",
       "4                   0.313248               -0.975722   \n",
       "\n",
       "   new_persons_fully_vaccinated  new_confirmed  new_deceased  new_tested  \\\n",
       "0                     -0.912319      -0.795366     -0.304480   -1.841382   \n",
       "1                     -0.912319      -0.323178     -0.160852   -1.006166   \n",
       "2                     -0.912319      -0.586310     -0.210569   -1.218743   \n",
       "3                     -0.912248       0.251586     -0.210569   -0.157338   \n",
       "4                     -0.912319       0.263758     -0.193997    0.003181   \n",
       "\n",
       "   new_tested  \n",
       "0   -1.841382  \n",
       "1   -1.006166  \n",
       "2   -1.218743  \n",
       "3   -0.157338  \n",
       "4    0.003181  "
      ]
     },
     "execution_count": 107,
     "metadata": {},
     "output_type": "execute_result"
    }
   ],
   "source": [
    "# after scaling the dataframe\n",
    "\n",
    "\n",
    "scaled_df.head(5)"
   ]
  },
  {
   "cell_type": "code",
   "execution_count": 89,
   "id": "c8443039",
   "metadata": {},
   "outputs": [],
   "source": [
    "# df_hosp_vacc_epi =scaled_df"
   ]
  },
  {
   "cell_type": "code",
   "execution_count": 108,
   "id": "604f3c21",
   "metadata": {},
   "outputs": [
    {
     "data": {
      "image/png": "[encoded data removed]",
      "text/plain": [
       "<Figure size 1008x576 with 1 Axes>"
      ]
     },
     "metadata": {
      "needs_background": "light"
     },
     "output_type": "display_data"
    }
   ],
   "source": [
    "import seaborn as sns\n",
    "import matplotlib.pyplot as ply\n",
    "fig, ax = plt.subplots(figsize=(14,8))\n",
    "ax = sns.boxplot(x='variable', y='value', data=pd.melt(scaled_df))\n",
    "ax.set_xlabel('column name ')\n",
    "ax.set_ylabel('MEDV')\n",
    "plt.show()"
   ]
  },
  {
   "cell_type": "code",
   "execution_count": 109,
   "id": "bfa7034b",
   "metadata": {},
   "outputs": [],
   "source": [
    "from statsmodels.graphics.tsaplots import plot_acf, plot_pacf\n",
    "from statsmodels.tsa.statespace.varmax import VARMAX\n",
    "from statsmodels.tsa.api import VAR\n",
    "from statsmodels.tsa.stattools import grangercausalitytests, adfuller\n",
    "from tqdm import tqdm_notebook\n",
    "from itertools import product"
   ]
  },
  {
   "cell_type": "code",
   "execution_count": 111,
   "id": "c3bd0648",
   "metadata": {},
   "outputs": [
    {
     "name": "stdout",
     "output_type": "stream",
     "text": [
      "new_hospitalized_patients\n",
      "ADF Statistic: -2.9944866405893094\n",
      "p-value: 0.03541249643539132\n",
      "\n",
      "---------------------\n",
      "\n",
      "new_persons_vaccinated\n",
      "ADF Statistic: -4.9320772786507545\n",
      "p-value: 3.019245943485067e-05\n"
     ]
    }
   ],
   "source": [
    "# performing augmented dicky fuller test to check the stationarity of the column new_hospitalized_patients\n",
    "\n",
    "ad_fuller_result_1 = adfuller(df_hosp_vacc_epi['new_hospitalized_patients'].diff()[1:])\n",
    "\n",
    "print('new_hospitalized_patients')\n",
    "print(f'ADF Statistic: {ad_fuller_result_1[0]}')\n",
    "print(f'p-value: {ad_fuller_result_1[1]}')\n",
    "\n",
    "print('\\n---------------------\\n')\n",
    "\n",
    "ad_fuller_result_2 = adfuller(df_hosp_vacc_epi['new_persons_vaccinated'].diff()[1:])\n",
    "\n",
    "print('new_persons_vaccinated')\n",
    "print(f'ADF Statistic: {ad_fuller_result_2[0]}')\n",
    "print(f'p-value: {ad_fuller_result_2[1]}')\n",
    "\n",
    "\n",
    "\n",
    "\n",
    "# ad_fuller_result_1 = adfuller(scaled_df['new_hospitalized_patients'].diff()[1:])\n",
    "\n",
    "# print('scaled  new_hospitalized_patients ')\n",
    "# print(f'ADF Statistic: {ad_fuller_result_1[0]}')\n",
    "# print(f'p-value: {ad_fuller_result_1[1]}')\n",
    "\n",
    "# print('\\n---------------------\\n')\n",
    "\n",
    "# ad_fuller_result_2 = adfuller(scaled_df['new_persons_vaccinated'].diff()[1:])\n",
    "\n",
    "# print('scaled  new_persons_vaccinated')\n",
    "# print(f'ADF Statistic: {ad_fuller_result_2[0]}')\n",
    "# print(f'p-value: {ad_fuller_result_2[1]}')"
   ]
  },
  {
   "cell_type": "code",
   "execution_count": 112,
   "id": "e2ea0433",
   "metadata": {},
   "outputs": [
    {
     "name": "stdout",
     "output_type": "stream",
     "text": [
      "new_hospitalized_patients causes new_persons_vaccinated?\n",
      "\n",
      "------------------\n",
      "\n",
      "Granger Causality\n",
      "number of lags (no zero) 1\n",
      "ssr based F test:         F=4.8025  , p=0.0291  , df_denom=361, df_num=1\n",
      "ssr based chi2 test:   chi2=4.8424  , p=0.0278  , df=1\n",
      "likelihood ratio test: chi2=4.8105  , p=0.0283  , df=1\n",
      "parameter F test:         F=4.8025  , p=0.0291  , df_denom=361, df_num=1\n",
      "\n",
      "Granger Causality\n",
      "number of lags (no zero) 2\n",
      "ssr based F test:         F=7.2347  , p=0.0008  , df_denom=358, df_num=2\n",
      "ssr based chi2 test:   chi2=14.6716 , p=0.0007  , df=2\n",
      "likelihood ratio test: chi2=14.3828 , p=0.0008  , df=2\n",
      "parameter F test:         F=7.2347  , p=0.0008  , df_denom=358, df_num=2\n",
      "\n",
      "Granger Causality\n",
      "number of lags (no zero) 3\n",
      "ssr based F test:         F=6.9267  , p=0.0002  , df_denom=355, df_num=3\n",
      "ssr based chi2 test:   chi2=21.1898 , p=0.0001  , df=3\n",
      "likelihood ratio test: chi2=20.5928 , p=0.0001  , df=3\n",
      "parameter F test:         F=6.9267  , p=0.0002  , df_denom=355, df_num=3\n",
      "\n",
      "Granger Causality\n",
      "number of lags (no zero) 4\n",
      "ssr based F test:         F=4.8799  , p=0.0008  , df_denom=352, df_num=4\n",
      "ssr based chi2 test:   chi2=20.0188 , p=0.0005  , df=4\n",
      "likelihood ratio test: chi2=19.4834 , p=0.0006  , df=4\n",
      "parameter F test:         F=4.8799  , p=0.0008  , df_denom=352, df_num=4\n",
      "\n",
      "\n",
      "new_persons_vaccinated causes new_hospitalized_patients?\n",
      "\n",
      "------------------\n",
      "\n",
      "Granger Causality\n",
      "number of lags (no zero) 1\n",
      "ssr based F test:         F=24.2125 , p=0.0000  , df_denom=361, df_num=1\n",
      "ssr based chi2 test:   chi2=24.4137 , p=0.0000  , df=1\n",
      "likelihood ratio test: chi2=23.6298 , p=0.0000  , df=1\n",
      "parameter F test:         F=24.2125 , p=0.0000  , df_denom=361, df_num=1\n",
      "\n",
      "Granger Causality\n",
      "number of lags (no zero) 2\n",
      "ssr based F test:         F=13.7146 , p=0.0000  , df_denom=358, df_num=2\n",
      "ssr based chi2 test:   chi2=27.8123 , p=0.0000  , df=2\n",
      "likelihood ratio test: chi2=26.7983 , p=0.0000  , df=2\n",
      "parameter F test:         F=13.7146 , p=0.0000  , df_denom=358, df_num=2\n",
      "\n",
      "Granger Causality\n",
      "number of lags (no zero) 3\n",
      "ssr based F test:         F=16.8490 , p=0.0000  , df_denom=355, df_num=3\n",
      "ssr based chi2 test:   chi2=51.5438 , p=0.0000  , df=3\n",
      "likelihood ratio test: chi2=48.1892 , p=0.0000  , df=3\n",
      "parameter F test:         F=16.8490 , p=0.0000  , df_denom=355, df_num=3\n",
      "\n",
      "Granger Causality\n",
      "number of lags (no zero) 4\n",
      "ssr based F test:         F=10.9528 , p=0.0000  , df_denom=352, df_num=4\n",
      "ssr based chi2 test:   chi2=44.9315 , p=0.0000  , df=4\n",
      "likelihood ratio test: chi2=42.3476 , p=0.0000  , df=4\n",
      "parameter F test:         F=10.9528 , p=0.0000  , df_denom=352, df_num=4\n"
     ]
    }
   ],
   "source": [
    "# checking the corelation of the columns using grangercausalitytests\n",
    "\n",
    "\n",
    "print('new_hospitalized_patients causes new_persons_vaccinated?\\n')\n",
    "print('------------------')\n",
    "granger_1 = grangercausalitytests(scaled_df[['new_persons_vaccinated', 'new_hospitalized_patients']], 4)\n",
    "# 4 specifies the number of lags \n",
    "print('\\n')\n",
    "print('new_persons_vaccinated causes new_hospitalized_patients?\\n')\n",
    "print('------------------')\n",
    "granger_2 = grangercausalitytests(scaled_df[['new_hospitalized_patients', 'new_persons_vaccinated']], 4)"
   ]
  },
  {
   "cell_type": "code",
   "execution_count": 123,
   "id": "ae9bf11d",
   "metadata": {},
   "outputs": [
    {
     "name": "stdout",
     "output_type": "stream",
     "text": [
      "(365, 2)\n"
     ]
    }
   ],
   "source": [
    "# selcting the 2 columns to be predicted \n",
    "\n",
    "df_hosp_vacc_epi = df_hosp_vacc_epi[['new_hospitalized_patients', 'new_persons_vaccinated']]\n",
    "print(df_hosp_vacc_epi.shape)"
   ]
  },
  {
   "cell_type": "code",
   "execution_count": 126,
   "id": "c8d44d5f",
   "metadata": {},
   "outputs": [
    {
     "name": "stdout",
     "output_type": "stream",
     "text": [
      "(355, 2)\n",
      "(10, 2)\n"
     ]
    }
   ],
   "source": [
    "# splitting the testing data and training data \n",
    "train_df=df_hosp_vacc_epi[:-10].astype('float32')\n",
    "test_df =df_hosp_vacc_epi[-10:].astype('float32')\n",
    "\n",
    "\n",
    "print(train_df.shape)\n",
    "print(test_df.shape)\n",
    "\n"
   ]
  },
  {
   "cell_type": "code",
   "execution_count": 127,
   "id": "b5306a0c",
   "metadata": {},
   "outputs": [
    {
     "data": {
      "image/png": "[encoded data removed]",
      "text/plain": [
       "<Figure size 1008x576 with 1 Axes>"
      ]
     },
     "metadata": {
      "needs_background": "light"
     },
     "output_type": "display_data"
    }
   ],
   "source": [
    "import seaborn as sns\n",
    "import matplotlib.pyplot as ply\n",
    "fig, ax = plt.subplots(figsize=(14,8))\n",
    "ax = sns.boxplot(x='variable', y='value', data=pd.melt(train_df))\n",
    "ax.set_xlabel('column name ')\n",
    "ax.set_ylabel('MEDV')\n",
    "plt.show()"
   ]
  },
  {
   "cell_type": "code",
   "execution_count": 128,
   "id": "fac574ef",
   "metadata": {},
   "outputs": [],
   "source": [
    "from sklearn.preprocessing import StandardScaler\n",
    "scaler = StandardScaler()\n",
    "X_scaled = scaler.fit_transform(train_df)\n",
    "scaled_df= pd.DataFrame(X_scaled,columns=list(train_df))"
   ]
  },
  {
   "cell_type": "code",
   "execution_count": 129,
   "id": "dcb773bf",
   "metadata": {},
   "outputs": [
    {
     "data": {
      "image/png": "[encoded data removed]",
      "text/plain": [
       "<Figure size 1008x576 with 1 Axes>"
      ]
     },
     "metadata": {
      "needs_background": "light"
     },
     "output_type": "display_data"
    }
   ],
   "source": [
    "import seaborn as sns\n",
    "import matplotlib.pyplot as ply\n",
    "fig, ax = plt.subplots(figsize=(14,8))\n",
    "ax = sns.boxplot(x='variable', y='value', data=pd.melt(scaled_df))\n",
    "ax.set_xlabel('column name ')\n",
    "ax.set_ylabel('MEDV')\n",
    "plt.show()"
   ]
  },
  {
   "cell_type": "code",
   "execution_count": 59,
   "id": "97f0e1f1",
   "metadata": {},
   "outputs": [],
   "source": [
    "# import seaborn as sns\n",
    "# import matplotlib.pyplot as ply\n",
    "# fig, ax = plt.subplots(figsize=(14,8))\n",
    "# ax = sns.boxplot(x='variable', y='value', data=pd.melt(X))\n",
    "# ax.set_xlabel('')\n",
    "# ax.set_ylabel('MEDV')\n",
    "# plt.show()"
   ]
  },
  {
   "cell_type": "code",
   "execution_count": 130,
   "id": "39485915",
   "metadata": {},
   "outputs": [],
   "source": [
    "model = VAR(scaled_df.diff()[1:])"
   ]
  },
  {
   "cell_type": "code",
   "execution_count": 61,
   "id": "f480fe08",
   "metadata": {},
   "outputs": [
    {
     "name": "stdout",
     "output_type": "stream",
     "text": [
      " VAR Order Selection (* highlights the minimums)  \n",
      "==================================================\n",
      "       AIC         BIC         FPE         HQIC   \n",
      "--------------------------------------------------\n",
      "0       -3.950      -3.927     0.01926      -3.941\n",
      "1       -4.080      -4.011     0.01691      -4.052\n",
      "2       -4.191      -4.077     0.01513      -4.145\n",
      "3       -4.267      -4.107     0.01402      -4.203\n",
      "4       -4.341      -4.136     0.01302      -4.259\n",
      "5       -4.553      -4.302     0.01053      -4.453\n",
      "6       -4.820      -4.523    0.008067      -4.702\n",
      "7       -5.116     -4.774*    0.005999      -4.980\n",
      "8       -5.151      -4.763    0.005793     -4.997*\n",
      "9       -5.141      -4.707    0.005853      -4.968\n",
      "10      -5.166      -4.687    0.005707      -4.975\n",
      "11      -5.144      -4.619    0.005835      -4.935\n",
      "12      -5.143      -4.572    0.005846      -4.915\n",
      "13      -5.164      -4.548    0.005724      -4.918\n",
      "14     -5.216*      -4.555   0.005432*      -4.952\n",
      "15      -5.200      -4.493    0.005520      -4.918\n",
      "16      -5.192      -4.439    0.005566      -4.892\n",
      "17      -5.174      -4.376    0.005669      -4.856\n",
      "18      -5.171      -4.327    0.005687      -4.835\n",
      "19      -5.156      -4.266    0.005776      -4.801\n",
      "20      -5.180      -4.245    0.005641      -4.807\n",
      "--------------------------------------------------\n"
     ]
    }
   ],
   "source": [
    "# SIC (Schwarz information criterion, aka Bayesian information criterion BIC)\n",
    "# AIC (Akaike information criterion)\n",
    "# HQIC (Hannan-Quinn information criterion)\n",
    "\n",
    "\n",
    "# The aim is to find the model with the lowest value of the selected information criterion. \n",
    "\n",
    "# ModelRisk applies these three criteria as a means of ranking each \n",
    "# fitted model, whether it be fitting a distribution, a time series model\n",
    "\n",
    "\n",
    "sorted_order = model.select_order(maxlags=20)\n",
    "print(sorted_order.summary())"
   ]
  },
  {
   "cell_type": "code",
   "execution_count": 141,
   "id": "99921f8e",
   "metadata": {},
   "outputs": [
    {
     "name": "stderr",
     "output_type": "stream",
     "text": [
      "C:\\Users\\slogeshkarthik\\AppData\\Local\\Programs\\Python\\Python310\\lib\\site-packages\\statsmodels\\tsa\\base\\tsa_model.py:471: ValueWarning: No frequency information was provided, so inferred frequency D will be used.\n",
      "  self._init_dates(dates, freq)\n"
     ]
    },
    {
     "name": "stdout",
     "output_type": "stream",
     "text": [
      "                                              Statespace Model Results                                             \n",
      "===================================================================================================================\n",
      "Dep. Variable:     ['new_hospitalized_patients', 'new_persons_vaccinated']   No. Observations:                  355\n",
      "Model:                                                              VAR(5)   Log Likelihood               -5608.184\n",
      "                                                               + intercept   AIC                          11266.369\n",
      "Date:                                                     Wed, 13 Apr 2022   BIC                          11363.172\n",
      "Time:                                                             03:26:25   HQIC                         11304.879\n",
      "Sample:                                                         01-01-2021                                         \n",
      "                                                              - 12-21-2021                                         \n",
      "Covariance Type:                                                       opg                                         \n",
      "===================================================================================\n",
      "Ljung-Box (L1) (Q):             2.77, 0.06   Jarque-Bera (JB):        21.01, 133.12\n",
      "Prob(Q):                        0.10, 0.81   Prob(JB):                   0.00, 0.00\n",
      "Heteroskedasticity (H):         0.42, 1.71   Skew:                       0.52, 0.45\n",
      "Prob(H) (two-sided):            0.00, 0.00   Kurtosis:                   3.56, 5.86\n",
      "                         Results for equation new_hospitalized_patients                         \n",
      "================================================================================================\n",
      "                                   coef    std err          z      P>|z|      [0.025      0.975]\n",
      "------------------------------------------------------------------------------------------------\n",
      "intercept                        9.9024     12.443      0.796      0.426     -14.486      34.291\n",
      "L1.new_hospitalized_patients     0.7218      0.073      9.908      0.000       0.579       0.865\n",
      "L1.new_persons_vaccinated       -0.0021      0.001     -2.609      0.009      -0.004      -0.001\n",
      "L2.new_hospitalized_patients     0.2164      0.077      2.797      0.005       0.065       0.368\n",
      "L2.new_persons_vaccinated       -0.0021      0.001     -2.118      0.034      -0.004      -0.000\n",
      "L3.new_hospitalized_patients    -0.1108      0.088     -1.262      0.207      -0.283       0.061\n",
      "L3.new_persons_vaccinated        0.0018      0.001      1.651      0.099      -0.000       0.004\n",
      "L4.new_hospitalized_patients     0.0068      0.091      0.075      0.940      -0.171       0.185\n",
      "L4.new_persons_vaccinated        0.0004      0.001      0.359      0.719      -0.002       0.002\n",
      "L5.new_hospitalized_patients     0.1692      0.076      2.214      0.027       0.019       0.319\n",
      "L5.new_persons_vaccinated        0.0011      0.001      1.242      0.214      -0.001       0.003\n",
      "                          Results for equation new_persons_vaccinated                           \n",
      "================================================================================================\n",
      "                                   coef    std err          z      P>|z|      [0.025      0.975]\n",
      "------------------------------------------------------------------------------------------------\n",
      "intercept                      561.9693   1131.275      0.497      0.619   -1655.288    2779.227\n",
      "L1.new_hospitalized_patients    17.1631      7.137      2.405      0.016       3.175      31.151\n",
      "L1.new_persons_vaccinated        0.6431      0.057     11.222      0.000       0.531       0.755\n",
      "L2.new_hospitalized_patients     0.6691      7.637      0.088      0.930     -14.298      15.636\n",
      "L2.new_persons_vaccinated       -0.0856      0.069     -1.232      0.218      -0.222       0.051\n",
      "L3.new_hospitalized_patients    -6.4669      9.034     -0.716      0.474     -24.172      11.239\n",
      "L3.new_persons_vaccinated        0.1621      0.085      1.900      0.057      -0.005       0.329\n",
      "L4.new_hospitalized_patients    -4.8608      8.637     -0.563      0.574     -21.788      12.067\n",
      "L4.new_persons_vaccinated        0.0685      0.094      0.726      0.468      -0.117       0.254\n",
      "L5.new_hospitalized_patients    -4.8534      6.573     -0.738      0.460     -17.735       8.029\n",
      "L5.new_persons_vaccinated        0.1100      0.068      1.625      0.104      -0.023       0.243\n",
      "                                                   Error covariance matrix                                                   \n",
      "=============================================================================================================================\n",
      "                                                                coef    std err          z      P>|z|      [0.025      0.975]\n",
      "-----------------------------------------------------------------------------------------------------------------------------\n",
      "sqrt.var.new_hospitalized_patients                           77.7758      3.173     24.512      0.000      71.557      83.995\n",
      "sqrt.cov.new_hospitalized_patients.new_persons_vaccinated  4449.3000    357.244     12.455      0.000    3749.114    5149.486\n",
      "sqrt.var.new_persons_vaccinated                            5520.4090    166.645     33.127      0.000    5193.792    5847.026\n",
      "=============================================================================================================================\n",
      "\n",
      "Warnings:\n",
      "[1] Covariance matrix calculated using the outer product of gradients (complex-step).\n",
      "[2] Covariance matrix is singular or near-singular, with condition number 2.85e+14. Standard errors may be unstable.\n"
     ]
    }
   ],
   "source": [
    "# for varmax model we have to specify the auto regression and the movoing average (4- AR ,0- MA)\n",
    "\n",
    "\n",
    "var_model = VARMAX(train_df, order=(5,0),enforce_stationarity= True)\n",
    "\n",
    "# X = X.astype('float32')\n",
    "# casting to float as the output will be in float and the program unable to convert float to int casting\n",
    "fitted_model = var_model.fit(disp=False)\n",
    "print(fitted_model.summary())"
   ]
  },
  {
   "cell_type": "code",
   "execution_count": 142,
   "id": "e42f6d58",
   "metadata": {},
   "outputs": [],
   "source": [
    "n_forecast = 10\n",
    "predict = fitted_model.get_prediction(start=len(train_df),end=len(train_df) + n_forecast-1)#start=\"1989-07-01\",end='1999-01-01')\n",
    "\n",
    "predictions=predict.predicted_mean"
   ]
  },
  {
   "cell_type": "code",
   "execution_count": 143,
   "id": "5e96b6d5",
   "metadata": {},
   "outputs": [
    {
     "data": {
      "text/html": [
       "<div>\n",
       "<style scoped>\n",
       "    .dataframe tbody tr th:only-of-type {\n",
       "        vertical-align: middle;\n",
       "    }\n",
       "\n",
       "    .dataframe tbody tr th {\n",
       "        vertical-align: top;\n",
       "    }\n",
       "\n",
       "    .dataframe thead th {\n",
       "        text-align: right;\n",
       "    }\n",
       "</style>\n",
       "<table border=\"1\" class=\"dataframe\">\n",
       "  <thead>\n",
       "    <tr style=\"text-align: right;\">\n",
       "      <th></th>\n",
       "      <th>Actual</th>\n",
       "      <th>Prediction</th>\n",
       "    </tr>\n",
       "  </thead>\n",
       "  <tbody>\n",
       "    <tr>\n",
       "      <th>2021-12-22</th>\n",
       "      <td>233.0</td>\n",
       "      <td>253.278260</td>\n",
       "    </tr>\n",
       "    <tr>\n",
       "      <th>2021-12-23</th>\n",
       "      <td>225.0</td>\n",
       "      <td>232.358095</td>\n",
       "    </tr>\n",
       "    <tr>\n",
       "      <th>2021-12-24</th>\n",
       "      <td>166.0</td>\n",
       "      <td>223.535658</td>\n",
       "    </tr>\n",
       "    <tr>\n",
       "      <th>2021-12-25</th>\n",
       "      <td>188.0</td>\n",
       "      <td>237.390688</td>\n",
       "    </tr>\n",
       "    <tr>\n",
       "      <th>2021-12-26</th>\n",
       "      <td>254.0</td>\n",
       "      <td>247.851499</td>\n",
       "    </tr>\n",
       "    <tr>\n",
       "      <th>2021-12-27</th>\n",
       "      <td>359.0</td>\n",
       "      <td>255.486099</td>\n",
       "    </tr>\n",
       "    <tr>\n",
       "      <th>2021-12-28</th>\n",
       "      <td>396.0</td>\n",
       "      <td>254.613336</td>\n",
       "    </tr>\n",
       "    <tr>\n",
       "      <th>2021-12-29</th>\n",
       "      <td>368.0</td>\n",
       "      <td>251.001909</td>\n",
       "    </tr>\n",
       "    <tr>\n",
       "      <th>2021-12-30</th>\n",
       "      <td>336.0</td>\n",
       "      <td>249.805053</td>\n",
       "    </tr>\n",
       "    <tr>\n",
       "      <th>2021-12-31</th>\n",
       "      <td>284.0</td>\n",
       "      <td>251.611712</td>\n",
       "    </tr>\n",
       "  </tbody>\n",
       "</table>\n",
       "</div>"
      ],
      "text/plain": [
       "            Actual  Prediction\n",
       "2021-12-22   233.0  253.278260\n",
       "2021-12-23   225.0  232.358095\n",
       "2021-12-24   166.0  223.535658\n",
       "2021-12-25   188.0  237.390688\n",
       "2021-12-26   254.0  247.851499\n",
       "2021-12-27   359.0  255.486099\n",
       "2021-12-28   396.0  254.613336\n",
       "2021-12-29   368.0  251.001909\n",
       "2021-12-30   336.0  249.805053\n",
       "2021-12-31   284.0  251.611712"
      ]
     },
     "execution_count": 143,
     "metadata": {},
     "output_type": "execute_result"
    }
   ],
   "source": [
    "predictions.columns=['pred_new_hospitalized_patients','pred_new_persons_vaccinated']\n",
    "\n",
    "predictions\n",
    "pd.DataFrame({\"Actual\":test_df['new_hospitalized_patients'],\"Prediction\":predictions['pred_new_hospitalized_patients']})"
   ]
  },
  {
   "cell_type": "code",
   "execution_count": 144,
   "id": "16a448bb",
   "metadata": {},
   "outputs": [],
   "source": [
    "test_vs_pred = pd.concat([test_df,predictions],axis=1)"
   ]
  },
  {
   "cell_type": "code",
   "execution_count": null,
   "id": "5b9a1f6f",
   "metadata": {},
   "outputs": [],
   "source": []
  },
  {
   "cell_type": "code",
   "execution_count": 145,
   "id": "2b64928f",
   "metadata": {},
   "outputs": [
    {
     "data": {
      "text/plain": [
       "<AxesSubplot:>"
      ]
     },
     "execution_count": 145,
     "metadata": {},
     "output_type": "execute_result"
    },
    {
     "data": {
      "image/png": "[encoded data removed]",
      "text/plain": [
       "<Figure size 864x360 with 1 Axes>"
      ]
     },
     "metadata": {
      "needs_background": "light"
     },
     "output_type": "display_data"
    }
   ],
   "source": [
    "test_vs_pred.plot(figsize=(12,5))"
   ]
  },
  {
   "cell_type": "code",
   "execution_count": 149,
   "id": "48529c7d",
   "metadata": {},
   "outputs": [
    {
     "name": "stdout",
     "output_type": "stream",
     "text": [
      "Mean value of hospitalized_patients is : 280.9. Root Mean Squared Error is :76.89303298032061\n",
      "Mean value of persons_vaccinated is : 5269.8. Root Mean Squared Error is :4309.507077074898\n"
     ]
    }
   ],
   "source": [
    "from sklearn.metrics import mean_squared_error\n",
    "import math \n",
    "from statistics import mean\n",
    "\n",
    "# 'pred_new_hospitalized_patients','pred_new_persons_vaccinated'\n",
    "\n",
    "rmse_ulc=math.sqrt(mean_squared_error(predictions['pred_new_hospitalized_patients'],test_df['new_hospitalized_patients']))\n",
    "print('Mean value of hospitalized_patients is : {}. Root Mean Squared Error is :{}'.format(mean(test_df['new_hospitalized_patients']),rmse_ulc))\n",
    "\n",
    "rmse_rgnp=math.sqrt(mean_squared_error(predictions['pred_new_persons_vaccinated'],test_df['new_persons_vaccinated']))\n",
    "print('Mean value of persons_vaccinated is : {}. Root Mean Squared Error is :{}'.format(mean(test_df['new_persons_vaccinated']),rmse_rgnp))\n",
    "\n",
    "\n",
    "\n",
    "# ['new_hospitalized_patients','new_persons_vaccinated']"
   ]
  },
  {
   "cell_type": "code",
   "execution_count": null,
   "id": "822c7366",
   "metadata": {},
   "outputs": [],
   "source": []
  },
  {
   "cell_type": "code",
   "execution_count": null,
   "id": "abb39571",
   "metadata": {},
   "outputs": [],
   "source": []
  },
  {
   "cell_type": "code",
   "execution_count": null,
   "id": "f357415a",
   "metadata": {},
   "outputs": [],
   "source": []
  },
  {
   "cell_type": "code",
   "execution_count": null,
   "id": "a283c16b",
   "metadata": {},
   "outputs": [],
   "source": []
  },
  {
   "cell_type": "code",
   "execution_count": null,
   "id": "e9ba0100",
   "metadata": {},
   "outputs": [],
   "source": []
  }
 ],
 "metadata": {
  "kernelspec": {
   "display_name": "Python 3 (ipykernel)",
   "language": "python",
   "name": "python3"
  },
  "language_info": {
   "codemirror_mode": {
    "name": "ipython",
    "version": 3
   },
   "file_extension": ".py",
   "mimetype": "text/x-python",
   "name": "python",
   "nbconvert_exporter": "python",
   "pygments_lexer": "ipython3",
   "version": "3.10.2"
  }
 },
 "nbformat": 4,
 "nbformat_minor": 5
}
