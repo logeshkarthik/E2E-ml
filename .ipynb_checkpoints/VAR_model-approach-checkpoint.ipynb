{
 "cells": [
  {
   "cell_type": "code",
   "execution_count": 1,
   "id": "be577af1",
   "metadata": {},
   "outputs": [],
   "source": [
    "import pyspark\n",
    "from azure.storage.blob import BlobServiceClient\n",
    "from pyspark.sql import SparkSession\n",
    "from pyspark.sql.types import StructType, StructField, StringType, FloatType, DoubleType, IntegerType, LongType\n",
    "from pyspark.sql.functions import count,lit, when,col,expr, udf, avg,to_date,broadcast,regexp_replace,last,lpad,concat_ws,date_format,year,month\n",
    "from pyspark.sql import Window\n",
    "import sys\n",
    "from pyspark import SparkContext\n",
    "import pyspark.sql \n",
    "\n",
    "import pandas as pd\n",
    "import matplotlib.pyplot as plt\n",
    "\n",
    "\n",
    "\n",
    "STORAGEACCOUNTURL = \"https://trainingbatchaccount.blob.core.windows.net\"\n",
    "STORAGEACCOUNTKEY = \"2QPPHsAtQ8/fh33VE7wqg/ZaeJoxdq/pnevAEmCh0n32tC5eXa8dTEEwMHdD9Ff5k1/wVh97aubqgKzQSwOLnQ==\"\n",
    "CONTAINERNAME = \"datasets\"\n",
    "# HOSPITALIZATION = \"economy.csv\"\n",
    "# INDEX = \"index.csv\"\n",
    "\n",
    "\n",
    "spark = SparkSession.builder.appName('azure').getOrCreate()\n",
    "spark.conf.set(\n",
    "        \"fs.azure.account.key.trainingbatchaccount.blob.core.windows.net\",\n",
    "        STORAGEACCOUNTKEY\n",
    "    \n",
    ")\n",
    "\n",
    "#-----------------------------Schema for hospitalizations dataset-------------------------------\n",
    "\n",
    "hospitalizations_schema = StructType([StructField(\"date\",StringType(), True),\\\n",
    "    StructField(\"location_key\",StringType(), True),\\\n",
    "    StructField(\"new_hospitalized_patients\", IntegerType(), True),\\\n",
    "    StructField(\"cumulative_hospitalized_patients\", IntegerType(), True),\\\n",
    "    StructField(\"current_hospitalized_patients\", IntegerType(), True),\\\n",
    "    StructField(\"new_intensive_care_patients\", IntegerType(), True),\\\n",
    "    StructField(\"cumulative_intensive_care_patients\", IntegerType(), True),\\\n",
    "    StructField(\"current_intensive_care_patients\", IntegerType(), True),\\\n",
    "    StructField(\"new_ventilator_patients\", StringType(), True),\\\n",
    "    StructField(\"cumulative_ventilator_patients\", StringType(), True),\\\n",
    "    StructField(\"current_ventilator_patients\", IntegerType(), True)])\n",
    "#-----------------------------Schema for vaccination dataset-------------------------------   \n",
    "vaccination_schema = StructType([StructField(\"date\",StringType(), True),\\\n",
    "    StructField(\"location_key\",StringType(), True),\\\n",
    "    StructField(\"new_persons_vaccinated\", IntegerType(), True),\\\n",
    "    StructField(\"cumulative_persons_vaccinated\", IntegerType(), True),\\\n",
    "    StructField(\"new_persons_fully_vaccinated\", IntegerType(), True),\\\n",
    "    StructField(\"cumulative_persons_fully_vaccinated\", IntegerType(), True),\\\n",
    "    StructField(\"new_vaccine_doses_administered\", IntegerType(), True),\\\n",
    "    StructField(\"cumulative_vaccine_doses_administered\", LongType(), True),\\\n",
    "    StructField(\"new_persons_vaccinated_pfizer\", IntegerType(), True),\\\n",
    "    StructField(\"cumulative_persons_vaccinated_pfizer\", IntegerType(), True),\\\n",
    "    StructField(\"new_persons_fully_vaccinated_pfizer\", IntegerType(), True),\\\n",
    "    StructField(\"cumulative_persons_fully_vaccinated_pfizer\", IntegerType(), True),\\\n",
    "    StructField(\"new_vaccine_doses_administered_pfizer\", IntegerType(), True),\\\n",
    "    StructField(\"cumulative_vaccine_doses_administered_pfizer\", IntegerType(), True),\\\n",
    "    StructField(\"new_persons_vaccinated_moderna\", IntegerType(), True),\\\n",
    "    StructField(\"cumulative_persons_vaccinated_moderna\", IntegerType(), True),\\\n",
    "    StructField(\"new_persons_fully_vaccinated_moderna\", IntegerType(), True),\\\n",
    "    StructField(\"cumulative_persons_fully_vaccinated_moderna\", IntegerType(), True),\\\n",
    "    StructField(\"new_vaccine_doses_administered_moderna\", IntegerType(), True),\\\n",
    "    StructField(\"cumulative_vaccine_doses_administered_moderna\", IntegerType(), True),\\\n",
    "    StructField(\"new_persons_vaccinated_janssen\", IntegerType(), True),\\\n",
    "    StructField(\"cumulative_persons_vaccinated_janssen\", IntegerType(), True),\\\n",
    "    StructField(\"new_persons_fully_vaccinated_janssen\", IntegerType(), True),\\\n",
    "    StructField(\"cumulative_persons_fully_vaccinated_janssen\", IntegerType(), True),\\\n",
    "    StructField(\"new_vaccine_doses_administered_janssen\", IntegerType(), True),\\\n",
    "    StructField(\"cumulative_vaccine_doses_administered_janssen\", IntegerType(), True),\\\n",
    "    StructField(\"new_persons_vaccinated_sinovac\", IntegerType(), True),\\\n",
    "    StructField(\"total_persons_vaccinated_sinovac\", IntegerType(), True),\\\n",
    "    StructField(\"new_persons_fully_vaccinated_sinovac\", StringType(), True),\\\n",
    "    StructField(\"total_persons_fully_vaccinated_sinovac\", StringType(), True),\\\n",
    "    StructField(\"new_vaccine_doses_administered_sinovac\", StringType(), True),\\\n",
    "    StructField(\"total_vaccine_doses_administered_sinovac\", StringType(), True)])\n",
    "  #-----------------------------Schema for epidemiology dataset-------------------------------\n",
    "\n",
    "epidemiology_schema = StructType([StructField(\"date\",StringType(), True),\\\n",
    "    StructField(\"location_key\",StringType(), True),\\\n",
    "    StructField(\"new_confirmed\", IntegerType(), True),\\\n",
    "    StructField(\"new_deceased\", IntegerType(), True),\\\n",
    "    StructField(\"new_recovered\", IntegerType(), True),\\\n",
    "    StructField(\"new_tested\", IntegerType(), True),\\\n",
    "    StructField(\"cumulative_confirmed\", IntegerType(), True),\\\n",
    "    StructField(\"cumulative_deceased\", IntegerType(), True),\\\n",
    "    StructField(\"cumulative_recovered\", IntegerType(), True),\\\n",
    "    StructField(\"cumulative_tested\", IntegerType(), True)])\n",
    "\n",
    "  \n",
    "\n",
    "hosp_df = spark.read.format('csv').option('header',True).schema(hospitalizations_schema).load(\"wasbs://datasets@trainingbatchaccount.blob.core.windows.net/hospitalizations.csv\")\n",
    "vacc_df = spark.read.format('csv').option('header',True).schema(vaccination_schema).load(\"wasbs://datasets@trainingbatchaccount.blob.core.windows.net/vaccinations.csv\")\n",
    "epi_df = spark.read.format('csv').option('header',True).schema(epidemiology_schema).load(\"wasbs://datasets@trainingbatchaccount.blob.core.windows.net/epidemiology.csv\")\n",
    "\n"
   ]
  },
  {
   "cell_type": "code",
   "execution_count": 2,
   "id": "3020cc02",
   "metadata": {},
   "outputs": [],
   "source": [
    "# to find shape of dataframe \n",
    "def sparkShape(dataFrame):\n",
    "    return (dataFrame.count(), len(dataFrame.columns))\n",
    "pyspark.sql.dataframe.DataFrame.shape = sparkShape\n",
    "\n",
    "spark.conf.set('spark.sql.repl.eagerEval.enabled', True)"
   ]
  },
  {
   "cell_type": "code",
   "execution_count": 3,
   "id": "f097d777",
   "metadata": {},
   "outputs": [],
   "source": [
    "from pyspark.sql import SparkSession\n",
    "import functools\n",
    " "
   ]
  },
  {
   "cell_type": "code",
   "execution_count": 24,
   "id": "7603d9e6",
   "metadata": {},
   "outputs": [
    {
     "data": {
      "text/plain": [
       "(1048563, 11)"
      ]
     },
     "execution_count": 24,
     "metadata": {},
     "output_type": "execute_result"
    }
   ],
   "source": [
    "hosp_df.shape()"
   ]
  },
  {
   "cell_type": "code",
   "execution_count": 4,
   "id": "a5c04b4b",
   "metadata": {},
   "outputs": [
    {
     "data": {
      "text/plain": [
       "(10909296, 10)"
      ]
     },
     "execution_count": 4,
     "metadata": {},
     "output_type": "execute_result"
    }
   ],
   "source": [
    "epi_df.shape()"
   ]
  },
  {
   "cell_type": "code",
   "execution_count": 5,
   "id": "45cbeaa6",
   "metadata": {},
   "outputs": [
    {
     "data": {
      "text/plain": [
       "(1783850, 32)"
      ]
     },
     "execution_count": 5,
     "metadata": {},
     "output_type": "execute_result"
    }
   ],
   "source": [
    "vacc_df.shape()"
   ]
  },
  {
   "cell_type": "code",
   "execution_count": 32,
   "id": "badfe496",
   "metadata": {},
   "outputs": [
    {
     "name": "stdout",
     "output_type": "stream",
     "text": [
      "root\n",
      " |-- date: string (nullable = true)\n",
      " |-- location_key: string (nullable = true)\n",
      " |-- new_hospitalized_patients: integer (nullable = true)\n",
      " |-- cumulative_hospitalized_patients: integer (nullable = true)\n",
      " |-- current_hospitalized_patients: integer (nullable = true)\n",
      " |-- new_intensive_care_patients: integer (nullable = true)\n",
      " |-- cumulative_intensive_care_patients: integer (nullable = true)\n",
      " |-- current_intensive_care_patients: integer (nullable = true)\n",
      " |-- new_ventilator_patients: string (nullable = true)\n",
      " |-- cumulative_ventilator_patients: string (nullable = true)\n",
      " |-- current_ventilator_patients: integer (nullable = true)\n",
      "\n"
     ]
    }
   ],
   "source": [
    "hosp_df.printSchema()"
   ]
  },
  {
   "cell_type": "code",
   "execution_count": 4,
   "id": "19012675",
   "metadata": {},
   "outputs": [],
   "source": [
    "#---------------------------------Opening hospitalization dataset and cleaning it----------------\n",
    "\n",
    "hosp_df = hosp_df.withColumn('Date',to_date(hosp_df['date'],'dd-MM-yyyy'))\n",
    "#fill empty values with zero\n",
    "hosp_df = hosp_df.fillna(value = 0, subset = ['new_hospitalized_patients','current_hospitalized_patients','current_intensive_care_patients','new_ventilator_patients','cumulative_ventilator_patients','current_ventilator_patients'])\n",
    "#drop unwanted column\n",
    "hosp_df = hosp_df.drop('cumulative_ventilator_patients','new_ventilator_patients')\n",
    "hosp_df = hosp_df.where((hosp_df.location_key == 'AR')&(hosp_df.Date >= '2021-01-01')&(hosp_df.Date <= '2021-12-31'))\n",
    "# for test model \n",
    "# hosp_df = hosp_df.drop('location_key')\n",
    "\n",
    "# hosp_df = hosp_df.filter(hosp_df[\"Date\"].gt(lit(\"2021-01-01\"))) \n",
    "# hosp_df= hosp_df[hosp_df['Date'] >= '01-01-2021']"
   ]
  },
  {
   "cell_type": "code",
   "execution_count": 34,
   "id": "bccac491",
   "metadata": {},
   "outputs": [
    {
     "name": "stdout",
     "output_type": "stream",
     "text": [
      "root\n",
      " |-- Date: date (nullable = true)\n",
      " |-- new_hospitalized_patients: integer (nullable = true)\n",
      " |-- cumulative_hospitalized_patients: integer (nullable = true)\n",
      " |-- current_hospitalized_patients: integer (nullable = true)\n",
      " |-- new_intensive_care_patients: integer (nullable = true)\n",
      " |-- cumulative_intensive_care_patients: integer (nullable = true)\n",
      " |-- current_intensive_care_patients: integer (nullable = true)\n",
      " |-- current_ventilator_patients: integer (nullable = true)\n",
      "\n"
     ]
    }
   ],
   "source": [
    "hosp_df.printSchema()"
   ]
  },
  {
   "cell_type": "code",
   "execution_count": 36,
   "id": "6e059624",
   "metadata": {},
   "outputs": [],
   "source": [
    "hosp_df.toPandas().to_csv(\"hosp_df_bfgb1.csv\")"
   ]
  },
  {
   "cell_type": "code",
   "execution_count": null,
   "id": "894f02b1",
   "metadata": {},
   "outputs": [],
   "source": [
    " #---------------------------------Opening epidemology dataset and cleaning it----------------\n",
    "    \n",
    "epi_df = epi_df.withColumn('date',to_date(epi_df['date'],format='yyyy-mm-dd'))\n",
    "epi_df = epi_df.na.fill(value=0)"
   ]
  },
  {
   "cell_type": "code",
   "execution_count": null,
   "id": "62b99f1a",
   "metadata": {},
   "outputs": [],
   "source": []
  },
  {
   "cell_type": "code",
   "execution_count": 5,
   "id": "b05879d3",
   "metadata": {},
   "outputs": [],
   "source": [
    " #---------------------------------Opening vaccination dataset and cleaning it----------------\n",
    "    \n",
    "#selecting needed columns only\n",
    "vacc_df = vacc_df.select(\"date\",\"location_key\",\"new_persons_vaccinated\",\"cumulative_persons_vaccinated\",\"new_persons_fully_vaccinated\",\"cumulative_persons_fully_vaccinated\",\"new_vaccine_doses_administered\",\"cumulative_vaccine_doses_administered\")\n",
    "\n",
    "        #Drop rows if all the values are null\n",
    "vacc_df = vacc_df.na.drop(subset=[\"new_persons_vaccinated\",\"cumulative_persons_vaccinated\",\"new_persons_fully_vaccinated\",\"cumulative_persons_fully_vaccinated\",\"new_vaccine_doses_administered\",\"cumulative_vaccine_doses_administered\"] ,how=\"all\")\n",
    "\n",
    "        #fill cumulative value with previous field value (Forward Fill)\n",
    "vacc_df = vacc_df.withColumn(\"cumulative_persons_vaccinated\", last('cumulative_persons_vaccinated', True).over(Window.partitionBy('location_key').rowsBetween(-sys.maxsize, 0)))\n",
    "vacc_df = vacc_df.withColumn(\"cumulative_persons_fully_vaccinated\",last('cumulative_persons_fully_vaccinated', True).over(Window.partitionBy('location_key').rowsBetween(-sys.maxsize, 0)))\n",
    "vacc_df = vacc_df.withColumn(\"cumulative_vaccine_doses_administered\",last('cumulative_vaccine_doses_administered', True).over(Window.partitionBy('location_key').rowsBetween(-sys.maxsize, 0)))\n",
    "\n",
    "        #replace null with zero\n",
    "vacc_df = vacc_df.na.fill(value=0)\n",
    "\n",
    "        #correct date format\n",
    "vacc_df = vacc_df.withColumn('Date_v',to_date(vacc_df['Date'],format='yyyy-MM-dd'))\n",
    "# vacc_df = vacc_df.withColumn('Date_1',(vacc_df['Date']))\n",
    "vacc_df = vacc_df.withColumn(\"Date_string\",vacc_df.Date.cast(StringType()))\n",
    "vacc_df = vacc_df.where((vacc_df.location_key == 'AR')&(vacc_df.Date >= '2021-01-01')&(vacc_df.Date <= '2021-12-31'))\n",
    "#  hosp_df.where((hosp_df.location_key == 'AR')&(hosp_df.Date >= '2021-01-01')&(hosp_df.Date <= '2021-12-31'))\n",
    "    "
   ]
  },
  {
   "cell_type": "code",
   "execution_count": 23,
   "id": "6f6d7701",
   "metadata": {},
   "outputs": [
    {
     "data": {
      "text/plain": [
       "<bound method DataFrame.tail of +----------+\n",
       "|      Date|\n",
       "+----------+\n",
       "|2021-01-01|\n",
       "|2021-01-02|\n",
       "|2021-01-03|\n",
       "|2021-01-04|\n",
       "|2021-01-05|\n",
       "|2021-01-06|\n",
       "|2021-01-07|\n",
       "|2021-01-08|\n",
       "|2021-01-09|\n",
       "|2021-01-10|\n",
       "|2021-01-11|\n",
       "|2021-01-12|\n",
       "|2021-01-13|\n",
       "|2021-01-14|\n",
       "|2021-01-15|\n",
       "|2021-01-16|\n",
       "|2021-01-17|\n",
       "|2021-01-18|\n",
       "|2021-01-19|\n",
       "|2021-01-20|\n",
       "+----------+\n",
       "only showing top 20 rows\n",
       ">"
      ]
     },
     "execution_count": 23,
     "metadata": {},
     "output_type": "execute_result"
    }
   ],
   "source": [
    "hosp_df.select('Date').tail"
   ]
  },
  {
   "cell_type": "code",
   "execution_count": 6,
   "id": "b8a7a8b1",
   "metadata": {},
   "outputs": [
    {
     "name": "stdout",
     "output_type": "stream",
     "text": [
      "root\n",
      " |-- Date: date (nullable = true)\n",
      " |-- location_key: string (nullable = true)\n",
      " |-- new_hospitalized_patients: integer (nullable = true)\n",
      " |-- cumulative_hospitalized_patients: integer (nullable = true)\n",
      " |-- current_hospitalized_patients: integer (nullable = true)\n",
      " |-- new_intensive_care_patients: integer (nullable = true)\n",
      " |-- cumulative_intensive_care_patients: integer (nullable = true)\n",
      " |-- current_intensive_care_patients: integer (nullable = true)\n",
      " |-- current_ventilator_patients: integer (nullable = true)\n",
      "\n",
      "root\n",
      " |-- Date: date (nullable = true)\n",
      " |-- location_key: string (nullable = true)\n",
      " |-- new_persons_vaccinated: integer (nullable = true)\n",
      " |-- cumulative_persons_vaccinated: integer (nullable = true)\n",
      " |-- new_persons_fully_vaccinated: integer (nullable = true)\n",
      " |-- cumulative_persons_fully_vaccinated: integer (nullable = true)\n",
      " |-- new_vaccine_doses_administered: integer (nullable = true)\n",
      " |-- cumulative_vaccine_doses_administered: long (nullable = true)\n",
      " |-- Date_string: string (nullable = true)\n",
      "\n"
     ]
    }
   ],
   "source": [
    "hosp_df.printSchema()\n",
    "vacc_df.printSchema()"
   ]
  },
  {
   "cell_type": "code",
   "execution_count": 61,
   "id": "f7845d8f",
   "metadata": {},
   "outputs": [
    {
     "name": "stdout",
     "output_type": "stream",
     "text": [
      "+----------+------------+-------------------------+--------------------------------+-----------------------------+---------------------------+----------------------------------+-------------------------------+---------------------------+\n",
      "|      Date|location_key|new_hospitalized_patients|cumulative_hospitalized_patients|current_hospitalized_patients|new_intensive_care_patients|cumulative_intensive_care_patients|current_intensive_care_patients|current_ventilator_patients|\n",
      "+----------+------------+-------------------------+--------------------------------+-----------------------------+---------------------------+----------------------------------+-------------------------------+---------------------------+\n",
      "|2021-01-01|          AR|                      450|                          233586|                            0|                         87|                             37363|                              0|                          0|\n",
      "|2021-01-02|          AR|                      575|                          234161|                            0|                        105|                             37468|                              0|                          0|\n",
      "|2021-01-03|          AR|                      504|                          234665|                            0|                         89|                             37557|                              0|                          0|\n",
      "|2021-01-04|          AR|                      759|                          235424|                            0|                        106|                             37663|                              0|                          0|\n",
      "|2021-01-05|          AR|                      650|                          236074|                            0|                        113|                             37776|                              0|                          0|\n",
      "|2021-01-06|          AR|                      680|                          236754|                            0|                        127|                             37903|                              0|                          0|\n",
      "|2021-01-07|          AR|                      649|                          237403|                            0|                        100|                             38003|                              0|                          0|\n",
      "|2021-01-08|          AR|                      622|                          238025|                            0|                        112|                             38115|                              0|                          0|\n",
      "|2021-01-09|          AR|                      553|                          238578|                            0|                         97|                             38212|                              0|                          0|\n",
      "|2021-01-10|          AR|                      557|                          239135|                            0|                         95|                             38307|                              0|                          0|\n",
      "|2021-01-11|          AR|                      619|                          239754|                            0|                        116|                             38423|                              0|                          0|\n",
      "|2021-01-12|          AR|                      626|                          240380|                            0|                        124|                             38547|                              0|                          0|\n",
      "|2021-01-13|          AR|                      678|                          241058|                            0|                        131|                             38678|                              0|                          0|\n",
      "|2021-01-14|          AR|                      611|                          241669|                            0|                         97|                             38775|                              0|                          0|\n",
      "|2021-01-15|          AR|                      574|                          242243|                            0|                        116|                             38891|                              0|                          0|\n",
      "|2021-01-16|          AR|                      516|                          242759|                            0|                         98|                             38989|                              0|                          0|\n",
      "|2021-01-17|          AR|                      486|                          243245|                            0|                         87|                             39076|                              0|                          0|\n",
      "|2021-01-18|          AR|                      556|                          243801|                            0|                         95|                             39171|                              0|                          0|\n",
      "|2021-01-19|          AR|                      597|                          244398|                            0|                        121|                             39292|                              0|                          0|\n",
      "|2021-01-20|          AR|                      606|                          245004|                            0|                        130|                             39422|                              0|                          0|\n",
      "+----------+------------+-------------------------+--------------------------------+-----------------------------+---------------------------+----------------------------------+-------------------------------+---------------------------+\n",
      "only showing top 20 rows\n",
      "\n"
     ]
    }
   ],
   "source": [
    " \n",
    "# # explicit function\n",
    "# def unionAll(dfs):\n",
    "#     return functools.reduce(lambda df1, df2: df1.union(df2.select(df1.columns)), dfs)\n",
    " \n",
    "\n",
    "# df1 = spark.createDataFrame([[1, 1], [2, 2]], ['a', 'b'])\n",
    "  \n",
    "# # different column order.\n",
    "# df2 = spark.createDataFrame([[3, 333], [4, 444]], ['b', 'a'])\n",
    "# df3 = spark.createDataFrame([[555, 5], [666, 6]], ['b', 'a'])\n",
    "  \n",
    "unioned_df = hosp_df.unionAll(vacc_df)\n",
    "unioned_df.show()"
   ]
  },
  {
   "cell_type": "code",
   "execution_count": 62,
   "id": "aea59e0d",
   "metadata": {},
   "outputs": [
    {
     "data": {
      "text/plain": [
       "(730, 9)"
      ]
     },
     "execution_count": 62,
     "metadata": {},
     "output_type": "execute_result"
    }
   ],
   "source": [
    "unioned_df.shape()"
   ]
  },
  {
   "cell_type": "code",
   "execution_count": 63,
   "id": "5a6c95e7",
   "metadata": {},
   "outputs": [
    {
     "data": {
      "text/plain": [
       "Row(Date=datetime.date(2021, 1, 1), location_key='AR', new_hospitalized_patients=450, cumulative_hospitalized_patients=233586, current_hospitalized_patients=0, new_intensive_care_patients=87, cumulative_intensive_care_patients=37363, current_intensive_care_patients=0, current_ventilator_patients='0')"
      ]
     },
     "execution_count": 63,
     "metadata": {},
     "output_type": "execute_result"
    }
   ],
   "source": [
    "unioned_df.head()"
   ]
  },
  {
   "cell_type": "code",
   "execution_count": null,
   "id": "624b4fc8",
   "metadata": {},
   "outputs": [],
   "source": [
    "unioned_df.head()"
   ]
  },
  {
   "cell_type": "code",
   "execution_count": 30,
   "id": "0eb01a11",
   "metadata": {},
   "outputs": [],
   "source": [
    "# adding a date string column to each dataframe \n",
    "\n",
    "hosp_df = hosp_df.withColumn(\"Date_string\",hosp_df.Date.cast(StringType()))\n",
    "hosp_df = hosp_df.where(hosp_df.location_key == 'AR')\n",
    "vacc_df = vacc_df.withColumn(\"Date_string\",vacc_df.Date_v.cast(StringType()))\n",
    "vacc_df = vacc_df.where(vacc_df.location_key == 'AR')"
   ]
  },
  {
   "cell_type": "code",
   "execution_count": null,
   "id": "3c62594e",
   "metadata": {},
   "outputs": [],
   "source": [
    "# aggregating date field\n",
    "\n",
    "hosp_df= hosp_df.groupby(\"Date\").sum()\n",
    "vacc_df= vacc_df.groupby(\"Date\").sum()\n",
    "hosp_df.shape()\n"
   ]
  },
  {
   "cell_type": "code",
   "execution_count": 6,
   "id": "5b25fc3f",
   "metadata": {},
   "outputs": [],
   "source": [
    "hosp_df= hosp_df.groupby(\"Date\").sum()"
   ]
  },
  {
   "cell_type": "code",
   "execution_count": 7,
   "id": "3dfcff3d",
   "metadata": {},
   "outputs": [
    {
     "data": {
      "text/plain": [
       "(31, 8)"
      ]
     },
     "execution_count": 7,
     "metadata": {},
     "output_type": "execute_result"
    }
   ],
   "source": [
    "hosp_df.shape()"
   ]
  },
  {
   "cell_type": "code",
   "execution_count": 8,
   "id": "7d885108",
   "metadata": {},
   "outputs": [],
   "source": [
    "hosp_df.toPandas().to_csv('hosp_df.csv')\n"
   ]
  },
  {
   "cell_type": "code",
   "execution_count": 15,
   "id": "299945bc",
   "metadata": {},
   "outputs": [
    {
     "data": {
      "text/plain": [
       "(365, 8)"
      ]
     },
     "execution_count": 15,
     "metadata": {},
     "output_type": "execute_result"
    }
   ],
   "source": [
    "vacc_df.shape()"
   ]
  },
  {
   "cell_type": "code",
   "execution_count": 2,
   "id": "c958b91a",
   "metadata": {},
   "outputs": [],
   "source": [
    "from pyspark.sql import SQLContext"
   ]
  },
  {
   "cell_type": "code",
   "execution_count": 22,
   "id": "8ae7e864",
   "metadata": {
    "scrolled": true
   },
   "outputs": [
    {
     "name": "stdout",
     "output_type": "stream",
     "text": [
      "+----------+------------+-------------------------+--------------------------------+-----------------------------+---------------------------+----------------------------------+-------------------------------+---------------------------+----------+------------+----------------------+-----------------------------+----------------------------+-----------------------------------+------------------------------+-------------------------------------+-----------+\n",
      "|Date      |location_key|new_hospitalized_patients|cumulative_hospitalized_patients|current_hospitalized_patients|new_intensive_care_patients|cumulative_intensive_care_patients|current_intensive_care_patients|current_ventilator_patients|Date      |location_key|new_persons_vaccinated|cumulative_persons_vaccinated|new_persons_fully_vaccinated|cumulative_persons_fully_vaccinated|new_vaccine_doses_administered|cumulative_vaccine_doses_administered|Date_string|\n",
      "+----------+------------+-------------------------+--------------------------------+-----------------------------+---------------------------+----------------------------------+-------------------------------+---------------------------+----------+------------+----------------------+-----------------------------+----------------------------+-----------------------------------+------------------------------+-------------------------------------+-----------+\n",
      "|2021-01-01|AR          |450                      |233586                          |0                            |87                         |37363                             |0                              |0                          |2021-01-01|AR          |15                    |6015                         |0                           |0                                  |15                            |6015                                 |2021-01-01 |\n",
      "|2021-01-02|AR          |575                      |234161                          |0                            |105                        |37468                             |0                              |0                          |2021-01-02|AR          |410                   |6425                         |0                           |0                                  |410                           |6425                                 |2021-01-02 |\n",
      "|2021-01-03|AR          |504                      |234665                          |0                            |89                         |37557                             |0                              |0                          |2021-01-03|AR          |52                    |6477                         |0                           |0                                  |52                            |6477                                 |2021-01-03 |\n",
      "|2021-01-04|AR          |759                      |235424                          |0                            |106                        |37663                             |0                              |0                          |2021-01-04|AR          |1465                  |7942                         |1                           |1                                  |1466                          |7943                                 |2021-01-04 |\n",
      "|2021-01-05|AR          |650                      |236074                          |0                            |113                        |37776                             |0                              |0                          |2021-01-05|AR          |1514                  |9456                         |0                           |1                                  |1514                          |9457                                 |2021-01-05 |\n",
      "|2021-01-06|AR          |680                      |236754                          |0                            |127                        |37903                             |0                              |0                          |2021-01-06|AR          |1451                  |10907                        |0                           |1                                  |1451                          |10908                                |2021-01-06 |\n",
      "|2021-01-07|AR          |649                      |237403                          |0                            |100                        |38003                             |0                              |0                          |2021-01-07|AR          |2483                  |13390                        |2                           |3                                  |2485                          |13393                                |2021-01-07 |\n",
      "|2021-01-08|AR          |622                      |238025                          |0                            |112                        |38115                             |0                              |0                          |2021-01-08|AR          |3818                  |17208                        |2                           |5                                  |3820                          |17213                                |2021-01-08 |\n",
      "|2021-01-09|AR          |553                      |238578                          |0                            |97                         |38212                             |0                              |0                          |2021-01-09|AR          |1420                  |18628                        |0                           |5                                  |1420                          |18633                                |2021-01-09 |\n",
      "|2021-01-10|AR          |557                      |239135                          |0                            |95                         |38307                             |0                              |0                          |2021-01-10|AR          |172                   |18800                        |0                           |5                                  |172                           |18805                                |2021-01-10 |\n",
      "|2021-01-11|AR          |619                      |239754                          |0                            |116                        |38423                             |0                              |0                          |2021-01-11|AR          |2644                  |21444                        |1                           |6                                  |2645                          |21450                                |2021-01-11 |\n",
      "|2021-01-12|AR          |626                      |240380                          |0                            |124                        |38547                             |0                              |0                          |2021-01-12|AR          |2621                  |24065                        |0                           |6                                  |2621                          |24071                                |2021-01-12 |\n",
      "|2021-01-13|AR          |678                      |241058                          |0                            |131                        |38678                             |0                              |0                          |2021-01-13|AR          |2155                  |26220                        |0                           |6                                  |2155                          |26226                                |2021-01-13 |\n",
      "|2021-01-14|AR          |611                      |241669                          |0                            |97                         |38775                             |0                              |0                          |2021-01-14|AR          |2243                  |28463                        |0                           |6                                  |2243                          |28469                                |2021-01-14 |\n",
      "|2021-01-15|AR          |574                      |242243                          |0                            |116                        |38891                             |0                              |0                          |2021-01-15|AR          |2440                  |30903                        |2                           |8                                  |2442                          |30911                                |2021-01-15 |\n",
      "|2021-01-16|AR          |516                      |242759                          |0                            |98                         |38989                             |0                              |0                          |2021-01-16|AR          |840                   |31743                        |0                           |8                                  |840                           |31751                                |2021-01-16 |\n",
      "|2021-01-17|AR          |486                      |243245                          |0                            |87                         |39076                             |0                              |0                          |2021-01-17|AR          |143                   |31886                        |1                           |9                                  |144                           |31895                                |2021-01-17 |\n",
      "|2021-01-18|AR          |556                      |243801                          |0                            |95                         |39171                             |0                              |0                          |2021-01-18|AR          |1438                  |33324                        |2                           |11                                 |1440                          |33335                                |2021-01-18 |\n",
      "|2021-01-19|AR          |597                      |244398                          |0                            |121                        |39292                             |0                              |0                          |2021-01-19|AR          |1146                  |34470                        |742                         |753                                |1888                          |35223                                |2021-01-19 |\n",
      "|2021-01-20|AR          |606                      |245004                          |0                            |130                        |39422                             |0                              |0                          |2021-01-20|AR          |849                   |35319                        |1936                        |2689                               |2785                          |38008                                |2021-01-20 |\n",
      "+----------+------------+-------------------------+--------------------------------+-----------------------------+---------------------------+----------------------------------+-------------------------------+---------------------------+----------+------------+----------------------+-----------------------------+----------------------------+-----------------------------------+------------------------------+-------------------------------------+-----------+\n",
      "only showing top 20 rows\n",
      "\n"
     ]
    }
   ],
   "source": [
    "# joining \n",
    "# hosp_df\n",
    "# vacc_df\n",
    "\n",
    "\n",
    "# cond = ((hosp_df['Date'] == vacc_df['Date']))\n",
    "# df_hosp_vacc = hosp_df.join(vacc_df, on = cond ,how = 'inner')\n",
    "\n",
    "\n",
    "# df_hosp_vacc = hosp_df.join(vacc_df).filter(hosp_df.Date < \"01-01-2021\")\n",
    "# joined_df = hosp_df.join(vacc_df).filter(hosp_df.Date == vacc_df.Date_v)\n",
    "# joined_df = joined_df.drop['Date']\n",
    "# joined_df= joined_df.groupby(\"Date\").sum()\n",
    "\n",
    "# dates_df.registerTempTable(\"dates\")\n",
    "\n",
    "# events_df.registerTempTable(\"events\")\n",
    "\n",
    "# df_hosp_vacc = spark.sql(\"SELECT * FROM hosp_df, vacc_df where hosp_df.Date >= 01-01-2021\")\n",
    "\n",
    "# df_hosp_vacc = hosp_df.join(vacc_df,hosp_df.Date == vacc_df.Date, \"inner\").show(truncate=False)\n",
    "# cond = ((hosp_df['Date'] == vacc_df['Date']))\n",
    "# df_hosp_vacc = hosp_df.join(vacc_df, on = cond ,how = 'outer')\n",
    "# df_hosp_vacc = hosp_df.join(vacc_df,hosp_df.Date ==  vacc_df.Date,\"inner\")\n",
    "# results.explain()\n",
    "# df_hosp_vacc = hosp_df.drop(vacc_df[\"Date\"])\n",
    "df_hosp_vacc = hosp_df.join(vacc_df,hosp_df.Date ==  vacc_df.Date,\"inner\")\n",
    "\n",
    "\n",
    "df_hosp_vacc.show(truncate=False)\n",
    "\n",
    "\n"
   ]
  },
  {
   "cell_type": "code",
   "execution_count": 23,
   "id": "c0596be9",
   "metadata": {},
   "outputs": [
    {
     "data": {
      "text/plain": [
       "(365, 18)"
      ]
     },
     "execution_count": 23,
     "metadata": {},
     "output_type": "execute_result"
    }
   ],
   "source": [
    "df_hosp_vacc.shape()"
   ]
  },
  {
   "cell_type": "code",
   "execution_count": 25,
   "id": "a515a736",
   "metadata": {},
   "outputs": [],
   "source": [
    "df_hosp_vacc.toPandas().to_csv(\"df_hosp_vacc_18rows.csv\")"
   ]
  },
  {
   "cell_type": "code",
   "execution_count": null,
   "id": "ef0639e0",
   "metadata": {},
   "outputs": [],
   "source": []
  },
  {
   "cell_type": "code",
   "execution_count": 10,
   "id": "0c429b38",
   "metadata": {},
   "outputs": [
    {
     "name": "stdout",
     "output_type": "stream",
     "text": [
      "root\n",
      " |-- Date: date (nullable = true)\n",
      " |-- location_key: string (nullable = true)\n",
      " |-- new_hospitalized_patients: integer (nullable = true)\n",
      " |-- cumulative_hospitalized_patients: integer (nullable = true)\n",
      " |-- current_hospitalized_patients: integer (nullable = true)\n",
      " |-- new_intensive_care_patients: integer (nullable = true)\n",
      " |-- cumulative_intensive_care_patients: integer (nullable = true)\n",
      " |-- current_intensive_care_patients: integer (nullable = true)\n",
      " |-- current_ventilator_patients: integer (nullable = true)\n",
      "\n"
     ]
    }
   ],
   "source": [
    "df_hosp_vacc.printSchema()\n",
    "\n"
   ]
  },
  {
   "cell_type": "code",
   "execution_count": 26,
   "id": "99b661a1",
   "metadata": {},
   "outputs": [],
   "source": [
    "df_hosp_vacc = df_hosp_vacc.toPandas()"
   ]
  },
  {
   "cell_type": "code",
   "execution_count": 27,
   "id": "14330719",
   "metadata": {},
   "outputs": [
    {
     "data": {
      "text/plain": [
       "Date                                     object\n",
       "location_key                             object\n",
       "new_hospitalized_patients                 int32\n",
       "cumulative_hospitalized_patients          int32\n",
       "current_hospitalized_patients             int32\n",
       "new_intensive_care_patients               int32\n",
       "cumulative_intensive_care_patients        int32\n",
       "current_intensive_care_patients           int32\n",
       "current_ventilator_patients               int32\n",
       "Date                                     object\n",
       "location_key                             object\n",
       "new_persons_vaccinated                    int32\n",
       "cumulative_persons_vaccinated             int32\n",
       "new_persons_fully_vaccinated              int32\n",
       "cumulative_persons_fully_vaccinated       int32\n",
       "new_vaccine_doses_administered            int32\n",
       "cumulative_vaccine_doses_administered     int64\n",
       "Date_string                              object\n",
       "dtype: object"
      ]
     },
     "execution_count": 27,
     "metadata": {},
     "output_type": "execute_result"
    }
   ],
   "source": [
    "df_hosp_vacc.dtypes"
   ]
  },
  {
   "cell_type": "code",
   "execution_count": 9,
   "id": "68b33d2c",
   "metadata": {},
   "outputs": [],
   "source": [
    "hosp_df['Date'] = pd.to_datetime(hosp_df.Date , format = '%Y-%m-%d')\n",
    "data = hosp_df.drop(['Date'], axis=1)\n",
    "data.index = hosp_df.Date"
   ]
  },
  {
   "cell_type": "code",
   "execution_count": 76,
   "id": "5e900135",
   "metadata": {
    "scrolled": true
   },
   "outputs": [
    {
     "name": "stdout",
     "output_type": "stream",
     "text": [
      "Collecting statsmodels\n",
      "  Using cached statsmodels-0.13.2-cp310-cp310-win_amd64.whl (9.1 MB)\n",
      "Requirement already satisfied: packaging>=21.3 in c:\\users\\slogeshkarthik\\appdata\\local\\programs\\python\\python310\\lib\\site-packages (from statsmodels) (21.3)\n",
      "Requirement already satisfied: scipy>=1.3 in c:\\users\\slogeshkarthik\\appdata\\local\\programs\\python\\python310\\lib\\site-packages (from statsmodels) (1.8.0)\n",
      "Collecting patsy>=0.5.2\n",
      "  Using cached patsy-0.5.2-py2.py3-none-any.whl (233 kB)\n",
      "Requirement already satisfied: numpy>=1.17 in c:\\users\\slogeshkarthik\\appdata\\local\\programs\\python\\python310\\lib\\site-packages (from statsmodels) (1.22.2)\n",
      "Requirement already satisfied: pandas>=0.25 in c:\\users\\slogeshkarthik\\appdata\\local\\programs\\python\\python310\\lib\\site-packages (from statsmodels) (1.4.1)\n",
      "Requirement already satisfied: pyparsing!=3.0.5,>=2.0.2 in c:\\users\\slogeshkarthik\\appdata\\local\\programs\\python\\python310\\lib\\site-packages (from packaging>=21.3->statsmodels) (3.0.7)\n",
      "Requirement already satisfied: python-dateutil>=2.8.1 in c:\\users\\slogeshkarthik\\appdata\\local\\programs\\python\\python310\\lib\\site-packages (from pandas>=0.25->statsmodels) (2.8.2)\n",
      "Requirement already satisfied: pytz>=2020.1 in c:\\users\\slogeshkarthik\\appdata\\local\\programs\\python\\python310\\lib\\site-packages (from pandas>=0.25->statsmodels) (2021.3)\n",
      "Requirement already satisfied: six in c:\\users\\slogeshkarthik\\appdata\\local\\programs\\python\\python310\\lib\\site-packages (from patsy>=0.5.2->statsmodels) (1.16.0)\n",
      "Installing collected packages: patsy, statsmodels\n",
      "Successfully installed patsy-0.5.2 statsmodels-0.13.2\n",
      "Note: you may need to restart the kernel to use updated packages.\n"
     ]
    }
   ],
   "source": [
    "pip install statsmodels"
   ]
  },
  {
   "cell_type": "code",
   "execution_count": 38,
   "id": "c15194e9",
   "metadata": {},
   "outputs": [
    {
     "data": {
      "text/plain": [
       "array([0.95964478, 0.6685237 , 0.39533153, 0.34395627, 0.17469942,\n",
       "       0.01154349])"
      ]
     },
     "execution_count": 38,
     "metadata": {},
     "output_type": "execute_result"
    }
   ],
   "source": [
    "import numpy as np\n",
    "n = 100\n",
    "#checking stationarity\n",
    "from statsmodels.tsa.vector_ar.vecm import coint_johansen\n",
    "#since the test works for only 12 variables, I have randomly dropped\n",
    "#in the next iteration, I would drop another and check the eigenvalues\n",
    "johan_test_temp = data.drop([ 'current_hospitalized_patients'], axis=1)\n",
    "johan_test_temp_dirty = johan_test_temp+0.00001*np.random.rand(365, 6)\n",
    "coint_johansen(johan_test_temp_dirty,-1,1).eig\n",
    "\n",
    "\n",
    "# from statsmodels.tsa.stattools import grangercausalitytests\n",
    "\n",
    "# n = 1000\n",
    "# ls = np.linspace(0, 2*np.pi, n)\n",
    "# df1Clean = pd.DataFrame(np.sin(ls))\n",
    "# df2Clean = pd.DataFrame(2*np.sin(ls+1))\n",
    "# dfClean = pd.concat([df1Clean, df2Clean], axis=1)\n",
    "# dfDirty = dfClean+0.00001*np.random.rand(n, 2)\n",
    "\n",
    "# grangercausalitytests(dfClean, maxlag=20, verbose=False)    # Raises LinAlgError\n",
    "# grangercausalitytests(dfDirty, maxlag=20, verbose=False)  "
   ]
  },
  {
   "cell_type": "code",
   "execution_count": 25,
   "id": "6cab2231",
   "metadata": {},
   "outputs": [
    {
     "data": {
      "text/plain": [
       "Date                                  datetime64[ns]\n",
       "location_key                                  object\n",
       "new_hospitalized_patients                      int32\n",
       "cumulative_hospitalized_patients               int32\n",
       "current_hospitalized_patients                  int32\n",
       "new_intensive_care_patients                    int32\n",
       "cumulative_intensive_care_patients             int32\n",
       "current_intensive_care_patients                int32\n",
       "current_ventilator_patients                    int32\n",
       "dtype: object"
      ]
     },
     "execution_count": 25,
     "metadata": {},
     "output_type": "execute_result"
    }
   ],
   "source": [
    "hosp_df.dtypes"
   ]
  },
  {
   "cell_type": "code",
   "execution_count": 53,
   "id": "d72888bc",
   "metadata": {},
   "outputs": [
    {
     "data": {
      "text/plain": [
       "Index(['Date', 'new_hospitalized_patients', 'cumulative_hospitalized_patients',\n",
       "       'current_hospitalized_patients', 'new_intensive_care_patients',\n",
       "       'cumulative_intensive_care_patients', 'current_intensive_care_patients',\n",
       "       'current_ventilator_patients'],\n",
       "      dtype='object')"
      ]
     },
     "execution_count": 53,
     "metadata": {},
     "output_type": "execute_result"
    }
   ],
   "source": [
    "hosp_df.columns"
   ]
  },
  {
   "cell_type": "code",
   "execution_count": 54,
   "id": "b4dba5be",
   "metadata": {},
   "outputs": [
    {
     "name": "stderr",
     "output_type": "stream",
     "text": [
      "C:\\Users\\slogeshkarthik\\AppData\\Local\\Programs\\Python\\Python310\\lib\\site-packages\\statsmodels\\tsa\\base\\tsa_model.py:471: ValueWarning: A date index has been provided, but it has no associated frequency information and so will be ignored when e.g. forecasting.\n",
      "  self._init_dates(dates, freq)\n",
      "C:\\Users\\slogeshkarthik\\AppData\\Local\\Programs\\Python\\Python310\\lib\\site-packages\\statsmodels\\tsa\\base\\tsa_model.py:471: ValueWarning: A date index has been provided, but it is not monotonic and so will be ignored when e.g. forecasting.\n",
      "  self._init_dates(dates, freq)\n"
     ]
    },
    {
     "ename": "AttributeError",
     "evalue": "'VARResults' object has no attribute 'y'",
     "output_type": "error",
     "traceback": [
      "\u001b[1;31m---------------------------------------------------------------------------\u001b[0m",
      "\u001b[1;31mAttributeError\u001b[0m                            Traceback (most recent call last)",
      "Input \u001b[1;32mIn [54]\u001b[0m, in \u001b[0;36m<module>\u001b[1;34m\u001b[0m\n\u001b[0;32m     11\u001b[0m model_fit \u001b[38;5;241m=\u001b[39m model\u001b[38;5;241m.\u001b[39mfit()\n\u001b[0;32m     13\u001b[0m \u001b[38;5;66;03m# make prediction on validation\u001b[39;00m\n\u001b[1;32m---> 14\u001b[0m prediction \u001b[38;5;241m=\u001b[39m model_fit\u001b[38;5;241m.\u001b[39mforecast(\u001b[43mmodel_fit\u001b[49m\u001b[38;5;241;43m.\u001b[39;49m\u001b[43my\u001b[49m, steps\u001b[38;5;241m=\u001b[39m\u001b[38;5;28mlen\u001b[39m(valid))\n",
      "File \u001b[1;32m~\\AppData\\Local\\Programs\\Python\\Python310\\lib\\site-packages\\statsmodels\\base\\wrapper.py:34\u001b[0m, in \u001b[0;36mResultsWrapper.__getattribute__\u001b[1;34m(self, attr)\u001b[0m\n\u001b[0;32m     31\u001b[0m \u001b[38;5;28;01mexcept\u001b[39;00m \u001b[38;5;167;01mAttributeError\u001b[39;00m:\n\u001b[0;32m     32\u001b[0m     \u001b[38;5;28;01mpass\u001b[39;00m\n\u001b[1;32m---> 34\u001b[0m obj \u001b[38;5;241m=\u001b[39m \u001b[38;5;28;43mgetattr\u001b[39;49m\u001b[43m(\u001b[49m\u001b[43mresults\u001b[49m\u001b[43m,\u001b[49m\u001b[43m \u001b[49m\u001b[43mattr\u001b[49m\u001b[43m)\u001b[49m\n\u001b[0;32m     35\u001b[0m data \u001b[38;5;241m=\u001b[39m results\u001b[38;5;241m.\u001b[39mmodel\u001b[38;5;241m.\u001b[39mdata\n\u001b[0;32m     36\u001b[0m how \u001b[38;5;241m=\u001b[39m \u001b[38;5;28mself\u001b[39m\u001b[38;5;241m.\u001b[39m_wrap_attrs\u001b[38;5;241m.\u001b[39mget(attr)\n",
      "\u001b[1;31mAttributeError\u001b[0m: 'VARResults' object has no attribute 'y'"
     ]
    }
   ],
   "source": [
    "# hosp_df = pd.get_dummies(hosp_df, columns=['location_key'], drop_first=True)\n",
    "# hosp_df.convert_objects(convert_numeric=True)\n",
    "#creating the train and validation set\n",
    "train = data[:int(0.8*(len(data)))]\n",
    "valid = data[int(0.8*(len(data))):]\n",
    "\n",
    "#fit the model\n",
    "from statsmodels.tsa.vector_ar.var_model import VAR\n",
    "\n",
    "model = VAR(endog=train)\n",
    "model_fit = model.fit()\n",
    "\n",
    "# make prediction on validation\n",
    "prediction = model_fit.forecast(model_fit.y, steps=len(valid))\n",
    "# prediction = model_fit.forecast(model_fit(1 ,1 ,0), steps=len(valid))"
   ]
  },
  {
   "cell_type": "code",
   "execution_count": null,
   "id": "860a0621",
   "metadata": {},
   "outputs": [],
   "source": [
    "# pip install statsmodels==0.12.0"
   ]
  },
  {
   "cell_type": "code",
   "execution_count": null,
   "id": "e04e37a9",
   "metadata": {},
   "outputs": [],
   "source": []
  },
  {
   "cell_type": "code",
   "execution_count": null,
   "id": "622ba2ba",
   "metadata": {},
   "outputs": [],
   "source": []
  },
  {
   "cell_type": "code",
   "execution_count": null,
   "id": "e9ba0100",
   "metadata": {},
   "outputs": [],
   "source": []
  },
  {
   "cell_type": "code",
   "execution_count": null,
   "id": "a283c16b",
   "metadata": {},
   "outputs": [],
   "source": []
  },
  {
   "cell_type": "code",
   "execution_count": null,
   "id": "f357415a",
   "metadata": {},
   "outputs": [],
   "source": []
  },
  {
   "cell_type": "code",
   "execution_count": null,
   "id": "abb39571",
   "metadata": {},
   "outputs": [],
   "source": []
  },
  {
   "cell_type": "code",
   "execution_count": null,
   "id": "822c7366",
   "metadata": {},
   "outputs": [],
   "source": []
  }
 ],
 "metadata": {
  "kernelspec": {
   "display_name": "Python 3 (ipykernel)",
   "language": "python",
   "name": "python3"
  },
  "language_info": {
   "codemirror_mode": {
    "name": "ipython",
    "version": 3
   },
   "file_extension": ".py",
   "mimetype": "text/x-python",
   "name": "python",
   "nbconvert_exporter": "python",
   "pygments_lexer": "ipython3",
   "version": "3.10.2"
  }
 },
 "nbformat": 4,
 "nbformat_minor": 5
}
