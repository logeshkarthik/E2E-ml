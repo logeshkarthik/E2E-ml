{
 "cells": [
  {
   "cell_type": "code",
   "execution_count": null,
   "id": "be577af1",
   "metadata": {},
   "outputs": [],
   "source": [
    "import pyspark\n",
    "from azure.storage.blob import BlobServiceClient\n",
    "from pyspark.sql import SparkSession\n",
    "from pyspark.sql import SQLContext\n",
    "from pyspark.sql.types import StructType, StructField, StringType, FloatType, DoubleType, IntegerType, LongType\n",
    "from pyspark.sql.functions import count,lit, when,col,expr, udf, avg,to_date,broadcast,regexp_replace,last,lpad,concat_ws,date_format,year,month\n",
    "from pyspark.sql import Window\n",
    "import sys\n",
    "from pyspark import SparkContext\n",
    "import pyspark.sql \n",
    "\n",
    "import pandas as pd\n",
    "import matplotlib.pyplot as plt\n",
    "\n",
    "\n",
    "\n",
    "STORAGEACCOUNTURL = \"https://trainingbatchaccount.blob.core.windows.net\"\n",
    "STORAGEACCOUNTKEY = \"2QPPHsAtQ8/fh33VE7wqg/ZaeJoxdq/pnevAEmCh0n32tC5eXa8dTEEwMHdD9Ff5k1/wVh97aubqgKzQSwOLnQ==\"\n",
    "CONTAINERNAME = \"datasets\"\n",
    "# HOSPITALIZATION = \"economy.csv\"\n",
    "# INDEX = \"index.csv\"\n",
    "\n",
    "\n",
    "spark = SparkSession.builder.appName('azure').getOrCreate()\n",
    "spark.conf.set(\n",
    "        \"fs.azure.account.key.trainingbatchaccount.blob.core.windows.net\",\n",
    "        STORAGEACCOUNTKEY\n",
    "    \n",
    ")\n",
    "\n",
    "#-----------------------------Schema for hospitalizations dataset-------------------------------\n",
    "\n",
    "hospitalizations_schema = StructType([StructField(\"date\",StringType(), True),\\\n",
    "    StructField(\"location_key\",StringType(), True),\\\n",
    "    StructField(\"new_hospitalized_patients\", IntegerType(), True),\\\n",
    "    StructField(\"cumulative_hospitalized_patients\", IntegerType(), True),\\\n",
    "    StructField(\"current_hospitalized_patients\", IntegerType(), True),\\\n",
    "    StructField(\"new_intensive_care_patients\", IntegerType(), True),\\\n",
    "    StructField(\"cumulative_intensive_care_patients\", IntegerType(), True),\\\n",
    "    StructField(\"current_intensive_care_patients\", IntegerType(), True),\\\n",
    "    StructField(\"new_ventilator_patients\", StringType(), True),\\\n",
    "    StructField(\"cumulative_ventilator_patients\", StringType(), True),\\\n",
    "    StructField(\"current_ventilator_patients\", IntegerType(), True)])\n",
    "#-----------------------------Schema for vaccination dataset-------------------------------   \n",
    "vaccination_schema = StructType([StructField(\"date\",StringType(), True),\\\n",
    "    StructField(\"location_key\",StringType(), True),\\\n",
    "    StructField(\"new_persons_vaccinated\", IntegerType(), True),\\\n",
    "    StructField(\"cumulative_persons_vaccinated\", IntegerType(), True),\\\n",
    "    StructField(\"new_persons_fully_vaccinated\", IntegerType(), True),\\\n",
    "    StructField(\"cumulative_persons_fully_vaccinated\", IntegerType(), True),\\\n",
    "    StructField(\"new_vaccine_doses_administered\", IntegerType(), True),\\\n",
    "    StructField(\"cumulative_vaccine_doses_administered\", LongType(), True),\\\n",
    "    StructField(\"new_persons_vaccinated_pfizer\", IntegerType(), True),\\\n",
    "    StructField(\"cumulative_persons_vaccinated_pfizer\", IntegerType(), True),\\\n",
    "    StructField(\"new_persons_fully_vaccinated_pfizer\", IntegerType(), True),\\\n",
    "    StructField(\"cumulative_persons_fully_vaccinated_pfizer\", IntegerType(), True),\\\n",
    "    StructField(\"new_vaccine_doses_administered_pfizer\", IntegerType(), True),\\\n",
    "    StructField(\"cumulative_vaccine_doses_administered_pfizer\", IntegerType(), True),\\\n",
    "    StructField(\"new_persons_vaccinated_moderna\", IntegerType(), True),\\\n",
    "    StructField(\"cumulative_persons_vaccinated_moderna\", IntegerType(), True),\\\n",
    "    StructField(\"new_persons_fully_vaccinated_moderna\", IntegerType(), True),\\\n",
    "    StructField(\"cumulative_persons_fully_vaccinated_moderna\", IntegerType(), True),\\\n",
    "    StructField(\"new_vaccine_doses_administered_moderna\", IntegerType(), True),\\\n",
    "    StructField(\"cumulative_vaccine_doses_administered_moderna\", IntegerType(), True),\\\n",
    "    StructField(\"new_persons_vaccinated_janssen\", IntegerType(), True),\\\n",
    "    StructField(\"cumulative_persons_vaccinated_janssen\", IntegerType(), True),\\\n",
    "    StructField(\"new_persons_fully_vaccinated_janssen\", IntegerType(), True),\\\n",
    "    StructField(\"cumulative_persons_fully_vaccinated_janssen\", IntegerType(), True),\\\n",
    "    StructField(\"new_vaccine_doses_administered_janssen\", IntegerType(), True),\\\n",
    "    StructField(\"cumulative_vaccine_doses_administered_janssen\", IntegerType(), True),\\\n",
    "    StructField(\"new_persons_vaccinated_sinovac\", IntegerType(), True),\\\n",
    "    StructField(\"total_persons_vaccinated_sinovac\", IntegerType(), True),\\\n",
    "    StructField(\"new_persons_fully_vaccinated_sinovac\", StringType(), True),\\\n",
    "    StructField(\"total_persons_fully_vaccinated_sinovac\", StringType(), True),\\\n",
    "    StructField(\"new_vaccine_doses_administered_sinovac\", StringType(), True),\\\n",
    "    StructField(\"total_vaccine_doses_administered_sinovac\", StringType(), True)])\n",
    "  #-----------------------------Schema for epidemiology dataset-------------------------------\n",
    "\n",
    "epidemiology_schema = StructType([StructField(\"date\",StringType(), True),\\\n",
    "    StructField(\"location_key\",StringType(), True),\\\n",
    "    StructField(\"new_confirmed\", IntegerType(), True),\\\n",
    "    StructField(\"new_deceased\", IntegerType(), True),\\\n",
    "    StructField(\"new_recovered\", IntegerType(), True),\\\n",
    "    StructField(\"new_tested\", IntegerType(), True),\\\n",
    "    StructField(\"cumulative_confirmed\", IntegerType(), True),\\\n",
    "    StructField(\"cumulative_deceased\", IntegerType(), True),\\\n",
    "    StructField(\"cumulative_recovered\", IntegerType(), True),\\\n",
    "    StructField(\"cumulative_tested\", IntegerType(), True)])\n",
    "\n",
    "  \n",
    "\n",
    "hosp_df = spark.read.format('csv').option('header',True).schema(hospitalizations_schema).load(\"wasbs://datasets@trainingbatchaccount.blob.core.windows.net/hospitalizations.csv\")\n",
    "vacc_df = spark.read.format('csv').option('header',True).schema(vaccination_schema).load(\"wasbs://datasets@trainingbatchaccount.blob.core.windows.net/vaccinations.csv\")\n",
    "epi_df = spark.read.format('csv').option('header',True).schema(epidemiology_schema).load(\"wasbs://datasets@trainingbatchaccount.blob.core.windows.net/epidemiology.csv\")\n",
    "\n"
   ]
  },
  {
   "cell_type": "code",
   "execution_count": 36,
   "id": "3020cc02",
   "metadata": {},
   "outputs": [],
   "source": [
    "# to find shape of dataframe \n",
    "def sparkShape(dataFrame):\n",
    "    return (dataFrame.count(), len(dataFrame.columns))\n",
    "pyspark.sql.dataframe.DataFrame.shape = sparkShape\n",
    "\n",
    "spark.conf.set('spark.sql.repl.eagerEval.enabled', True)"
   ]
  },
  {
   "cell_type": "code",
   "execution_count": 37,
   "id": "f097d777",
   "metadata": {},
   "outputs": [],
   "source": [
    "from pyspark.sql import SparkSession\n",
    "import functools\n",
    " "
   ]
  },
  {
   "cell_type": "code",
   "execution_count": 38,
   "id": "19012675",
   "metadata": {},
   "outputs": [],
   "source": [
    "#---------------------------------Opening hospitalization dataset and cleaning it----------------\n",
    "\n",
    "hosp_df = hosp_df.withColumn('Date',to_date(hosp_df['date'],'dd-MM-yyyy'))\n",
    "#fill empty values with zero\n",
    "hosp_df = hosp_df.fillna(value = 0, subset = ['new_hospitalized_patients','current_hospitalized_patients','current_intensive_care_patients','new_ventilator_patients','cumulative_ventilator_patients','current_ventilator_patients'])\n",
    "#drop unwanted column\n",
    "hosp_df = hosp_df.drop('cumulative_ventilator_patients','new_ventilator_patients')\n",
    "hosp_df = hosp_df.where((hosp_df.location_key == 'AR')&(hosp_df.Date >= '2021-01-01')&(hosp_df.Date <= '2021-12-31'))\n"
   ]
  },
  {
   "cell_type": "code",
   "execution_count": 39,
   "id": "894f02b1",
   "metadata": {},
   "outputs": [],
   "source": [
    " #---------------------------------Opening epidemology dataset and cleaning it----------------\n",
    "    \n",
    "# epi_df = epi_df.withColumn('date',to_date(epi_df['date'],format='yyyy-mm-dd'))\n",
    "# epi_df = epi_df.na.fill(value=0)\n",
    "\n",
    "\n",
    "#correct date format\n",
    "epi_df = epi_df.withColumn('Date',to_date(epi_df['date'],format='yyyy-MM-dd'))\n",
    "epi_df = epi_df.na.fill(value=0)\n",
    "# vacc_df = vacc_df.withColumn('Date_1',(vacc_df['Date']))\n",
    "# vacc_df = vacc_df.withColumn(\"Date_string\",vacc_df.Date.cast(StringType()))\n",
    "epi_df = epi_df.where((epi_df.location_key == 'AR')&(epi_df.Date >= '2021-01-01')&(epi_df.Date <= '2021-12-31'))\n",
    "epi_df = epi_df.drop('location_key')"
   ]
  },
  {
   "cell_type": "code",
   "execution_count": 6,
   "id": "fe86f7d8",
   "metadata": {},
   "outputs": [],
   "source": [
    "# epi_df.tail(5)"
   ]
  },
  {
   "cell_type": "code",
   "execution_count": 7,
   "id": "17c2de93",
   "metadata": {},
   "outputs": [
    {
     "name": "stdout",
     "output_type": "stream",
     "text": [
      "root\n",
      " |-- Date: date (nullable = true)\n",
      " |-- new_confirmed: integer (nullable = true)\n",
      " |-- new_deceased: integer (nullable = true)\n",
      " |-- new_recovered: integer (nullable = true)\n",
      " |-- new_tested: integer (nullable = true)\n",
      " |-- cumulative_confirmed: integer (nullable = true)\n",
      " |-- cumulative_deceased: integer (nullable = true)\n",
      " |-- cumulative_recovered: integer (nullable = true)\n",
      " |-- cumulative_tested: integer (nullable = true)\n",
      "\n"
     ]
    }
   ],
   "source": [
    "# epi_df.printSchema()"
   ]
  },
  {
   "cell_type": "code",
   "execution_count": 40,
   "id": "b05879d3",
   "metadata": {},
   "outputs": [],
   "source": [
    " #---------------------------------Opening vaccination dataset and cleaning it----------------\n",
    "    \n",
    "#selecting needed columns only\n",
    "vacc_df = vacc_df.select(\"date\",\"location_key\",\"new_persons_vaccinated\",\"cumulative_persons_vaccinated\",\"new_persons_fully_vaccinated\",\"cumulative_persons_fully_vaccinated\",\"new_vaccine_doses_administered\",\"cumulative_vaccine_doses_administered\")\n",
    "\n",
    "#Drop rows if all the values are null\n",
    "vacc_df = vacc_df.na.drop(subset=[\"new_persons_vaccinated\",\"cumulative_persons_vaccinated\",\"new_persons_fully_vaccinated\",\"cumulative_persons_fully_vaccinated\",\"new_vaccine_doses_administered\",\"cumulative_vaccine_doses_administered\"] ,how=\"all\")\n",
    "\n",
    "#fill cumulative value with previous field value (Forward Fill)\n",
    "vacc_df = vacc_df.withColumn(\"cumulative_persons_vaccinated\", last('cumulative_persons_vaccinated', True).over(Window.partitionBy('location_key').rowsBetween(-sys.maxsize, 0)))\n",
    "vacc_df = vacc_df.withColumn(\"cumulative_persons_fully_vaccinated\",last('cumulative_persons_fully_vaccinated', True).over(Window.partitionBy('location_key').rowsBetween(-sys.maxsize, 0)))\n",
    "vacc_df = vacc_df.withColumn(\"cumulative_vaccine_doses_administered\",last('cumulative_vaccine_doses_administered', True).over(Window.partitionBy('location_key').rowsBetween(-sys.maxsize, 0)))\n",
    "\n",
    "#replace null with zero\n",
    "vacc_df = vacc_df.na.fill(value=0)\n",
    "\n",
    "#correct date format\n",
    "vacc_df = vacc_df.withColumn('Date',to_date(vacc_df['Date'],format='yyyy-MM-dd'))\n",
    "# vacc_df = vacc_df.withColumn('Date_1',(vacc_df['Date']))\n",
    "# vacc_df = vacc_df.withColumn(\"Date_string\",vacc_df.Date.cast(StringType()))\n",
    "vacc_df = vacc_df.where((vacc_df.location_key == 'AR')&(vacc_df.Date >= '2021-01-01')&(vacc_df.Date <= '2021-12-31'))\n",
    "#  hosp_df.where((hosp_df.location_key == 'AR')&(hosp_df.Date >= '2021-01-01')&(hosp_df.Date <= '2021-12-31'))\n",
    "vacc_df = vacc_df.drop('location_key')\n",
    "    "
   ]
  },
  {
   "cell_type": "code",
   "execution_count": null,
   "id": "acd4d8ad",
   "metadata": {},
   "outputs": [],
   "source": []
  },
  {
   "cell_type": "code",
   "execution_count": null,
   "id": "ca82b4c3",
   "metadata": {},
   "outputs": [],
   "source": []
  },
  {
   "cell_type": "code",
   "execution_count": null,
   "id": "d4a04ac4",
   "metadata": {},
   "outputs": [],
   "source": []
  },
  {
   "cell_type": "code",
   "execution_count": 41,
   "id": "b8a7a8b1",
   "metadata": {},
   "outputs": [
    {
     "name": "stdout",
     "output_type": "stream",
     "text": [
      "root\n",
      " |-- Date: date (nullable = true)\n",
      " |-- location_key: string (nullable = true)\n",
      " |-- new_hospitalized_patients: integer (nullable = true)\n",
      " |-- cumulative_hospitalized_patients: integer (nullable = true)\n",
      " |-- current_hospitalized_patients: integer (nullable = true)\n",
      " |-- new_intensive_care_patients: integer (nullable = true)\n",
      " |-- cumulative_intensive_care_patients: integer (nullable = true)\n",
      " |-- current_intensive_care_patients: integer (nullable = true)\n",
      " |-- current_ventilator_patients: integer (nullable = true)\n",
      "\n",
      "root\n",
      " |-- Date: date (nullable = true)\n",
      " |-- new_persons_vaccinated: integer (nullable = true)\n",
      " |-- cumulative_persons_vaccinated: integer (nullable = true)\n",
      " |-- new_persons_fully_vaccinated: integer (nullable = true)\n",
      " |-- cumulative_persons_fully_vaccinated: integer (nullable = true)\n",
      " |-- new_vaccine_doses_administered: integer (nullable = true)\n",
      " |-- cumulative_vaccine_doses_administered: long (nullable = true)\n",
      "\n",
      "root\n",
      " |-- Date: date (nullable = true)\n",
      " |-- new_confirmed: integer (nullable = true)\n",
      " |-- new_deceased: integer (nullable = true)\n",
      " |-- new_recovered: integer (nullable = true)\n",
      " |-- new_tested: integer (nullable = true)\n",
      " |-- cumulative_confirmed: integer (nullable = true)\n",
      " |-- cumulative_deceased: integer (nullable = true)\n",
      " |-- cumulative_recovered: integer (nullable = true)\n",
      " |-- cumulative_tested: integer (nullable = true)\n",
      "\n"
     ]
    }
   ],
   "source": [
    "hosp_df.printSchema()\n",
    "vacc_df.printSchema()\n",
    "epi_df.printSchema()"
   ]
  },
  {
   "cell_type": "code",
   "execution_count": 62,
   "id": "8ae7e864",
   "metadata": {
    "scrolled": true
   },
   "outputs": [],
   "source": [
    "# joining \n",
    "# hosp_df\n",
    "# vacc_df\n",
    "\n",
    "df_hosp_vacc = hosp_df.join(vacc_df,['Date'],\"inner\")\n",
    "\n",
    "df_hosp_vacc_epi = df_hosp_vacc.join(epi_df,['Date'],\"inner\")\n",
    "# df_hosp_vacc = hosp_df.join(vacc_df,hosp_df.Date ==  vacc_df.Date,\"inner\")\n",
    "\n",
    "\n",
    "# df_hosp_vacc_epi.show(truncate=False)\n",
    "\n",
    "\n"
   ]
  },
  {
   "cell_type": "code",
   "execution_count": 63,
   "id": "c0596be9",
   "metadata": {},
   "outputs": [],
   "source": [
    "# df_hosp_vacc_epi.shape()"
   ]
  },
  {
   "cell_type": "code",
   "execution_count": 64,
   "id": "b84f134a",
   "metadata": {},
   "outputs": [],
   "source": [
    "# df_hosp_vacc_epi = df_hosp_vacc_epi.drop('location_key')"
   ]
  },
  {
   "cell_type": "code",
   "execution_count": 65,
   "id": "a515a736",
   "metadata": {},
   "outputs": [],
   "source": [
    "# df_hosp_vacc_epi.toPandas().to_csv(\"df_hosp_vacc_epi1.csv\")"
   ]
  },
  {
   "cell_type": "code",
   "execution_count": 66,
   "id": "ef0639e0",
   "metadata": {},
   "outputs": [],
   "source": [
    "# df_hosp_vacc_epi.printSchema()"
   ]
  },
  {
   "cell_type": "code",
   "execution_count": null,
   "id": "14330719",
   "metadata": {},
   "outputs": [],
   "source": [
    "df_hosp_vacc_epi=df_hosp_vacc_epi.drop('location_key')\n",
    "\n",
    "\n",
    "df_hosp_vacc_epi=df_hosp_vacc_epi.toPandas()\n",
    "# df_hosp_vacc_epi['Date'] = pd.to_datetime(df_hosp_vacc_epi.Date , format = '%Y-%m-%d')\n",
    "df_hosp_vacc_epi =df_hosp_vacc_epi[['Date', 'new_hospitalized_patients', 'new_persons_vaccinated', 'new_persons_fully_vaccinated', 'new_confirmed', 'new_deceased', 'new_recovered', 'new_tested']]"
   ]
  },
  {
   "cell_type": "code",
   "execution_count": null,
   "id": "292183f3",
   "metadata": {},
   "outputs": [],
   "source": [
    "# df_hosp_vacc_epi.dtypes"
   ]
  },
  {
   "cell_type": "code",
   "execution_count": null,
   "id": "bbf50040",
   "metadata": {},
   "outputs": [],
   "source": [
    "\n",
    "# df_hosp_vacc_epi =df_hosp_vacc_epi[['Date', 'new_hospitalized_patients', 'new_persons_vaccinated', 'new_persons_fully_vaccinated', 'new_confirmed', 'new_deceased', 'new_recovered', 'new_tested']]"
   ]
  },
  {
   "cell_type": "code",
   "execution_count": null,
   "id": "674a3d49",
   "metadata": {
    "scrolled": true
   },
   "outputs": [],
   "source": [
    "df_hosp_vacc_epi.dtypes"
   ]
  },
  {
   "cell_type": "code",
   "execution_count": null,
   "id": "a88ee4f0",
   "metadata": {},
   "outputs": [],
   "source": [
    "fig, axes = plt.subplots(nrows=4, ncols=2, dpi=120, figsize=(10,6))\n",
    "for i, ax in enumerate(axes.flatten()):\n",
    "    data = df_hosp_vacc_epi[df_hosp_vacc_epi.columns[i]]\n",
    "    ax.plot(data, color='red', linewidth=1)\n",
    "    # Decorations\n",
    "    ax.set_title(df_hosp_vacc_epi.columns[i])\n",
    "    ax.xaxis.set_ticks_position('none')\n",
    "    ax.yaxis.set_ticks_position('none')\n",
    "    ax.spines[\"top\"].set_alpha(0)\n",
    "    ax.tick_params(labelsize=6)\n",
    "\n",
    "plt.tight_layout();"
   ]
  },
  {
   "cell_type": "code",
   "execution_count": null,
   "id": "68b33d2c",
   "metadata": {},
   "outputs": [],
   "source": [
    "# df_hosp_vacc_epi['Date'] = pd.to_datetime(df_hosp_vacc_epi.Date , format = '%Y-%m-%d')\n",
    "\n",
    "df_hosp_vacc_epi = df_hosp_vacc_epi.sort_values(by='Date')\n",
    "\n",
    "\n",
    "# data = df_hosp_vacc_epi.drop(['Date'], axis=1)\n",
    "# data.index = df_hosp_vacc_epi.Date"
   ]
  },
  {
   "cell_type": "code",
   "execution_count": null,
   "id": "15aaa5ea",
   "metadata": {},
   "outputs": [],
   "source": [
    "from statsmodels.graphics.tsaplots import plot_acf, plot_pacf\n",
    "from statsmodels.tsa.statespace.varmax import VARMAX\n",
    "from statsmodels.tsa.api import VAR\n",
    "from statsmodels.tsa.stattools import grangercausalitytests, adfuller\n",
    "from tqdm import tqdm_notebook\n",
    "from itertools import product"
   ]
  },
  {
   "cell_type": "code",
   "execution_count": 48,
   "id": "c3bd0648",
   "metadata": {},
   "outputs": [
    {
     "name": "stdout",
     "output_type": "stream",
     "text": [
      "new_hospitalized_patients\n",
      "ADF Statistic: -2.9944866405893094\n",
      "p-value: 0.03541249643539132\n",
      "\n",
      "---------------------\n",
      "\n",
      "new_persons_vaccinated\n",
      "ADF Statistic: -4.9320772786507545\n",
      "p-value: 3.019245943485067e-05\n"
     ]
    }
   ],
   "source": [
    "# performing augmented dicky fuller test to check the stationarity of the column new_hospitalized_patients and new_persons_vaccinated\n",
    "\n",
    "ad_fuller_result_1 = adfuller(df_hosp_vacc_epi['new_hospitalized_patients'].diff()[1:])\n",
    "\n",
    "print('new_hospitalized_patients')\n",
    "print(f'ADF Statistic: {ad_fuller_result_1[0]}')\n",
    "print(f'p-value: {ad_fuller_result_1[1]}')\n",
    "\n",
    "print('\\n---------------------\\n')\n",
    "\n",
    "ad_fuller_result_2 = adfuller(df_hosp_vacc_epi['new_persons_vaccinated'].diff()[1:])\n",
    "\n",
    "print('new_persons_vaccinated')\n",
    "print(f'ADF Statistic: {ad_fuller_result_2[0]}')\n",
    "print(f'p-value: {ad_fuller_result_2[1]}')"
   ]
  },
  {
   "cell_type": "code",
   "execution_count": 49,
   "id": "e2ea0433",
   "metadata": {},
   "outputs": [
    {
     "name": "stdout",
     "output_type": "stream",
     "text": [
      "new_hospitalized_patients causes new_persons_vaccinated?\n",
      "\n",
      "------------------\n",
      "\n",
      "Granger Causality\n",
      "number of lags (no zero) 1\n",
      "ssr based F test:         F=4.8025  , p=0.0291  , df_denom=361, df_num=1\n",
      "ssr based chi2 test:   chi2=4.8424  , p=0.0278  , df=1\n",
      "likelihood ratio test: chi2=4.8105  , p=0.0283  , df=1\n",
      "parameter F test:         F=4.8025  , p=0.0291  , df_denom=361, df_num=1\n",
      "\n",
      "Granger Causality\n",
      "number of lags (no zero) 2\n",
      "ssr based F test:         F=7.2347  , p=0.0008  , df_denom=358, df_num=2\n",
      "ssr based chi2 test:   chi2=14.6716 , p=0.0007  , df=2\n",
      "likelihood ratio test: chi2=14.3828 , p=0.0008  , df=2\n",
      "parameter F test:         F=7.2347  , p=0.0008  , df_denom=358, df_num=2\n",
      "\n",
      "Granger Causality\n",
      "number of lags (no zero) 3\n",
      "ssr based F test:         F=6.9267  , p=0.0002  , df_denom=355, df_num=3\n",
      "ssr based chi2 test:   chi2=21.1898 , p=0.0001  , df=3\n",
      "likelihood ratio test: chi2=20.5928 , p=0.0001  , df=3\n",
      "parameter F test:         F=6.9267  , p=0.0002  , df_denom=355, df_num=3\n",
      "\n",
      "Granger Causality\n",
      "number of lags (no zero) 4\n",
      "ssr based F test:         F=4.8799  , p=0.0008  , df_denom=352, df_num=4\n",
      "ssr based chi2 test:   chi2=20.0188 , p=0.0005  , df=4\n",
      "likelihood ratio test: chi2=19.4834 , p=0.0006  , df=4\n",
      "parameter F test:         F=4.8799  , p=0.0008  , df_denom=352, df_num=4\n",
      "\n",
      "\n",
      "new_persons_vaccinated causes new_hospitalized_patients?\n",
      "\n",
      "------------------\n",
      "\n",
      "Granger Causality\n",
      "number of lags (no zero) 1\n",
      "ssr based F test:         F=24.2125 , p=0.0000  , df_denom=361, df_num=1\n",
      "ssr based chi2 test:   chi2=24.4137 , p=0.0000  , df=1\n",
      "likelihood ratio test: chi2=23.6298 , p=0.0000  , df=1\n",
      "parameter F test:         F=24.2125 , p=0.0000  , df_denom=361, df_num=1\n",
      "\n",
      "Granger Causality\n",
      "number of lags (no zero) 2\n",
      "ssr based F test:         F=13.7146 , p=0.0000  , df_denom=358, df_num=2\n",
      "ssr based chi2 test:   chi2=27.8123 , p=0.0000  , df=2\n",
      "likelihood ratio test: chi2=26.7983 , p=0.0000  , df=2\n",
      "parameter F test:         F=13.7146 , p=0.0000  , df_denom=358, df_num=2\n",
      "\n",
      "Granger Causality\n",
      "number of lags (no zero) 3\n",
      "ssr based F test:         F=16.8490 , p=0.0000  , df_denom=355, df_num=3\n",
      "ssr based chi2 test:   chi2=51.5438 , p=0.0000  , df=3\n",
      "likelihood ratio test: chi2=48.1892 , p=0.0000  , df=3\n",
      "parameter F test:         F=16.8490 , p=0.0000  , df_denom=355, df_num=3\n",
      "\n",
      "Granger Causality\n",
      "number of lags (no zero) 4\n",
      "ssr based F test:         F=10.9528 , p=0.0000  , df_denom=352, df_num=4\n",
      "ssr based chi2 test:   chi2=44.9315 , p=0.0000  , df=4\n",
      "likelihood ratio test: chi2=42.3476 , p=0.0000  , df=4\n",
      "parameter F test:         F=10.9528 , p=0.0000  , df_denom=352, df_num=4\n"
     ]
    }
   ],
   "source": [
    "# checking the corelation of the columns using grangercausalitytests\n",
    "\n",
    "\n",
    "print('new_hospitalized_patients causes new_persons_vaccinated?\\n')\n",
    "print('------------------')\n",
    "granger_1 = grangercausalitytests(df_hosp_vacc_epi[['new_persons_vaccinated', 'new_hospitalized_patients']], 4)\n",
    "# 4 specifies the number of lags \n",
    "print('\\n')\n",
    "print('new_persons_vaccinated causes new_hospitalized_patients?\\n')\n",
    "print('------------------')\n",
    "granger_2 = grangercausalitytests(df_hosp_vacc_epi[['new_hospitalized_patients', 'new_persons_vaccinated']], 4)"
   ]
  },
  {
   "cell_type": "code",
   "execution_count": 50,
   "id": "ae9bf11d",
   "metadata": {},
   "outputs": [
    {
     "name": "stdout",
     "output_type": "stream",
     "text": [
      "(365, 2)\n"
     ]
    }
   ],
   "source": [
    "# selcting the 2 columns to be predicted \n",
    "\n",
    "df_hosp_vacc_epi = df_hosp_vacc_epi[['new_hospitalized_patients', 'new_persons_vaccinated']]\n",
    "print(df_hosp_vacc_epi.shape)"
   ]
  },
  {
   "cell_type": "code",
   "execution_count": 51,
   "id": "0f856ab0",
   "metadata": {},
   "outputs": [
    {
     "name": "stdout",
     "output_type": "stream",
     "text": [
      "(355, 2)\n",
      "(10, 2)\n"
     ]
    }
   ],
   "source": [
    "# splitting the testing data and training data \n",
    "train_df=df_hosp_vacc_epi[:-10].astype('float32')\n",
    "test_df =df_hosp_vacc_epi[-10:].astype('float32')\n",
    "\n",
    "\n",
    "print(train_df.shape)\n",
    "print(test_df.shape)\n",
    "\n"
   ]
  },
  {
   "cell_type": "code",
   "execution_count": 52,
   "id": "9e4b374d",
   "metadata": {},
   "outputs": [
    {
     "name": "stderr",
     "output_type": "stream",
     "text": [
      "C:\\Users\\slogeshkarthik\\AppData\\Local\\Programs\\Python\\Python310\\lib\\site-packages\\statsmodels\\tsa\\base\\tsa_model.py:471: ValueWarning: An unsupported index was provided and will be ignored when e.g. forecasting.\n",
      "  self._init_dates(dates, freq)\n"
     ]
    }
   ],
   "source": [
    "model = VAR(train_df.diff()[1:])"
   ]
  },
  {
   "cell_type": "code",
   "execution_count": 53,
   "id": "ed63f1a3",
   "metadata": {},
   "outputs": [
    {
     "name": "stdout",
     "output_type": "stream",
     "text": [
      " VAR Order Selection (* highlights the minimums)  \n",
      "==================================================\n",
      "       AIC         BIC         FPE         HQIC   \n",
      "--------------------------------------------------\n",
      "0        26.47       26.50   3.139e+11       26.48\n",
      "1        26.34       26.41   2.757e+11       26.37\n",
      "2        26.23       26.35   2.467e+11       26.28\n",
      "3        26.16       26.31   2.286e+11       26.22\n",
      "4        26.08       26.29   2.122e+11       26.16\n",
      "5        25.87       26.12   1.717e+11       25.97\n",
      "6        25.60       25.90   1.315e+11       25.72\n",
      "7        25.31      25.65*   9.778e+10       25.44\n",
      "8        25.27       25.66   9.442e+10      25.43*\n",
      "9        25.28       25.71   9.540e+10       25.45\n",
      "10       25.26       25.73   9.302e+10       25.45\n",
      "11       25.28       25.80   9.511e+10       25.49\n",
      "12       25.28       25.85   9.529e+10       25.51\n",
      "13       25.26       25.87   9.330e+10       25.50\n",
      "14      25.21*       25.87  8.854e+10*       25.47\n",
      "15       25.22       25.93   8.998e+10       25.50\n",
      "16       25.23       25.98   9.073e+10       25.53\n",
      "17       25.25       26.05   9.240e+10       25.57\n",
      "18       25.25       26.10   9.270e+10       25.59\n",
      "19       25.27       26.16   9.415e+10       25.62\n",
      "20       25.24       26.18   9.195e+10       25.62\n",
      "--------------------------------------------------\n"
     ]
    }
   ],
   "source": [
    "# SIC (Schwarz information criterion, aka Bayesian information criterion BIC)\n",
    "# AIC (Akaike information criterion)\n",
    "# HQIC (Hannan-Quinn information criterion)\n",
    "\n",
    "\n",
    "# The aim is to find the model with the lowest value of the selected information criterion. \n",
    "\n",
    "# ModelRisk applies these three criteria as a means of ranking each \n",
    "# fitted model, whether it be fitting a distribution, a time series model\n",
    "\n",
    "\n",
    "sorted_order = model.select_order(maxlags=20)\n",
    "print(sorted_order.summary())"
   ]
  },
  {
   "cell_type": "code",
   "execution_count": 54,
   "id": "3ac4ee9d",
   "metadata": {},
   "outputs": [
    {
     "name": "stderr",
     "output_type": "stream",
     "text": [
      "C:\\Users\\slogeshkarthik\\AppData\\Local\\Programs\\Python\\Python310\\lib\\site-packages\\statsmodels\\tsa\\base\\tsa_model.py:471: ValueWarning: An unsupported index was provided and will be ignored when e.g. forecasting.\n",
      "  self._init_dates(dates, freq)\n"
     ]
    },
    {
     "name": "stdout",
     "output_type": "stream",
     "text": [
      "                                              Statespace Model Results                                             \n",
      "===================================================================================================================\n",
      "Dep. Variable:     ['new_hospitalized_patients', 'new_persons_vaccinated']   No. Observations:                  355\n",
      "Model:                                                              VAR(5)   Log Likelihood               -5608.184\n",
      "                                                               + intercept   AIC                          11266.369\n",
      "Date:                                                     Sun, 10 Apr 2022   BIC                          11363.172\n",
      "Time:                                                             01:52:44   HQIC                         11304.879\n",
      "Sample:                                                                  0                                         \n",
      "                                                                     - 355                                         \n",
      "Covariance Type:                                                       opg                                         \n",
      "===================================================================================\n",
      "Ljung-Box (L1) (Q):             2.77, 0.06   Jarque-Bera (JB):        21.01, 133.12\n",
      "Prob(Q):                        0.10, 0.81   Prob(JB):                   0.00, 0.00\n",
      "Heteroskedasticity (H):         0.42, 1.71   Skew:                       0.52, 0.45\n",
      "Prob(H) (two-sided):            0.00, 0.00   Kurtosis:                   3.56, 5.86\n",
      "                         Results for equation new_hospitalized_patients                         \n",
      "================================================================================================\n",
      "                                   coef    std err          z      P>|z|      [0.025      0.975]\n",
      "------------------------------------------------------------------------------------------------\n",
      "intercept                        9.9024     12.443      0.796      0.426     -14.486      34.291\n",
      "L1.new_hospitalized_patients     0.7218      0.073      9.908      0.000       0.579       0.865\n",
      "L1.new_persons_vaccinated       -0.0021      0.001     -2.609      0.009      -0.004      -0.001\n",
      "L2.new_hospitalized_patients     0.2164      0.077      2.797      0.005       0.065       0.368\n",
      "L2.new_persons_vaccinated       -0.0021      0.001     -2.118      0.034      -0.004      -0.000\n",
      "L3.new_hospitalized_patients    -0.1108      0.088     -1.262      0.207      -0.283       0.061\n",
      "L3.new_persons_vaccinated        0.0018      0.001      1.651      0.099      -0.000       0.004\n",
      "L4.new_hospitalized_patients     0.0068      0.091      0.075      0.940      -0.171       0.185\n",
      "L4.new_persons_vaccinated        0.0004      0.001      0.359      0.719      -0.002       0.002\n",
      "L5.new_hospitalized_patients     0.1692      0.076      2.214      0.027       0.019       0.319\n",
      "L5.new_persons_vaccinated        0.0011      0.001      1.242      0.214      -0.001       0.003\n",
      "                          Results for equation new_persons_vaccinated                           \n",
      "================================================================================================\n",
      "                                   coef    std err          z      P>|z|      [0.025      0.975]\n",
      "------------------------------------------------------------------------------------------------\n",
      "intercept                      561.9693   1131.275      0.497      0.619   -1655.288    2779.227\n",
      "L1.new_hospitalized_patients    17.1631      7.137      2.405      0.016       3.175      31.151\n",
      "L1.new_persons_vaccinated        0.6431      0.057     11.222      0.000       0.531       0.755\n",
      "L2.new_hospitalized_patients     0.6691      7.637      0.088      0.930     -14.298      15.636\n",
      "L2.new_persons_vaccinated       -0.0856      0.069     -1.232      0.218      -0.222       0.051\n",
      "L3.new_hospitalized_patients    -6.4669      9.034     -0.716      0.474     -24.172      11.239\n",
      "L3.new_persons_vaccinated        0.1621      0.085      1.900      0.057      -0.005       0.329\n",
      "L4.new_hospitalized_patients    -4.8608      8.637     -0.563      0.574     -21.788      12.067\n",
      "L4.new_persons_vaccinated        0.0685      0.094      0.726      0.468      -0.117       0.254\n",
      "L5.new_hospitalized_patients    -4.8534      6.573     -0.738      0.460     -17.735       8.029\n",
      "L5.new_persons_vaccinated        0.1100      0.068      1.625      0.104      -0.023       0.243\n",
      "                                                   Error covariance matrix                                                   \n",
      "=============================================================================================================================\n",
      "                                                                coef    std err          z      P>|z|      [0.025      0.975]\n",
      "-----------------------------------------------------------------------------------------------------------------------------\n",
      "sqrt.var.new_hospitalized_patients                           77.7758      3.173     24.512      0.000      71.557      83.995\n",
      "sqrt.cov.new_hospitalized_patients.new_persons_vaccinated  4449.3000    357.244     12.455      0.000    3749.114    5149.486\n",
      "sqrt.var.new_persons_vaccinated                            5520.4090    166.645     33.127      0.000    5193.792    5847.026\n",
      "=============================================================================================================================\n",
      "\n",
      "Warnings:\n",
      "[1] Covariance matrix calculated using the outer product of gradients (complex-step).\n",
      "[2] Covariance matrix is singular or near-singular, with condition number 2.85e+14. Standard errors may be unstable.\n"
     ]
    }
   ],
   "source": [
    "# for varmax model we have to specify the auto regression and the movoing average (4- AR ,0- MA)\n",
    "\n",
    "\n",
    "var_model = VARMAX(train_df, order=(5,0),enforce_stationarity= True)\n",
    "\n",
    "# X = X.astype('float32')\n",
    "# casting to float as the output will be in float and the program unable to convert float to int casting\n",
    "fitted_model = var_model.fit(disp=False)\n",
    "print(fitted_model.summary())"
   ]
  },
  {
   "cell_type": "code",
   "execution_count": 55,
   "id": "e9e6facf",
   "metadata": {},
   "outputs": [
    {
     "name": "stderr",
     "output_type": "stream",
     "text": [
      "C:\\Users\\slogeshkarthik\\AppData\\Local\\Programs\\Python\\Python310\\lib\\site-packages\\statsmodels\\tsa\\base\\tsa_model.py:834: ValueWarning: No supported index is available. Prediction results will be given with an integer index beginning at `start`.\n",
      "  return get_prediction_index(\n"
     ]
    }
   ],
   "source": [
    "n_forecast = 10\n",
    "predict = fitted_model.get_prediction(start=len(train_df),end=len(train_df) + n_forecast-1)#start=\"1989-07-01\",end='1999-01-01')\n",
    "\n",
    "predictions=predict.predicted_mean"
   ]
  },
  {
   "cell_type": "code",
   "execution_count": 30,
   "id": "79bff02b",
   "metadata": {},
   "outputs": [
    {
     "data": {
      "text/html": [
       "<div>\n",
       "<style scoped>\n",
       "    .dataframe tbody tr th:only-of-type {\n",
       "        vertical-align: middle;\n",
       "    }\n",
       "\n",
       "    .dataframe tbody tr th {\n",
       "        vertical-align: top;\n",
       "    }\n",
       "\n",
       "    .dataframe thead th {\n",
       "        text-align: right;\n",
       "    }\n",
       "</style>\n",
       "<table border=\"1\" class=\"dataframe\">\n",
       "  <thead>\n",
       "    <tr style=\"text-align: right;\">\n",
       "      <th></th>\n",
       "      <th>pred_new_hospitalized_patients</th>\n",
       "      <th>pred_new_persons_vaccinated</th>\n",
       "    </tr>\n",
       "  </thead>\n",
       "  <tbody>\n",
       "    <tr>\n",
       "      <th>355</th>\n",
       "      <td>253.278260</td>\n",
       "      <td>7883.103281</td>\n",
       "    </tr>\n",
       "    <tr>\n",
       "      <th>356</th>\n",
       "      <td>232.358095</td>\n",
       "      <td>7391.876478</td>\n",
       "    </tr>\n",
       "    <tr>\n",
       "      <th>357</th>\n",
       "      <td>223.535658</td>\n",
       "      <td>6661.472663</td>\n",
       "    </tr>\n",
       "    <tr>\n",
       "      <th>358</th>\n",
       "      <td>237.390688</td>\n",
       "      <td>6438.661415</td>\n",
       "    </tr>\n",
       "    <tr>\n",
       "      <th>359</th>\n",
       "      <td>247.851499</td>\n",
       "      <td>6931.280601</td>\n",
       "    </tr>\n",
       "    <tr>\n",
       "      <th>360</th>\n",
       "      <td>255.486099</td>\n",
       "      <td>7531.051384</td>\n",
       "    </tr>\n",
       "    <tr>\n",
       "      <th>361</th>\n",
       "      <td>254.613336</td>\n",
       "      <td>7927.237505</td>\n",
       "    </tr>\n",
       "    <tr>\n",
       "      <th>362</th>\n",
       "      <td>251.001909</td>\n",
       "      <td>8012.896490</td>\n",
       "    </tr>\n",
       "    <tr>\n",
       "      <th>363</th>\n",
       "      <td>249.805053</td>\n",
       "      <td>7910.540230</td>\n",
       "    </tr>\n",
       "    <tr>\n",
       "      <th>364</th>\n",
       "      <td>251.611712</td>\n",
       "      <td>7891.733468</td>\n",
       "    </tr>\n",
       "  </tbody>\n",
       "</table>\n",
       "</div>"
      ],
      "text/plain": [
       "     pred_new_hospitalized_patients  pred_new_persons_vaccinated\n",
       "355                      253.278260                  7883.103281\n",
       "356                      232.358095                  7391.876478\n",
       "357                      223.535658                  6661.472663\n",
       "358                      237.390688                  6438.661415\n",
       "359                      247.851499                  6931.280601\n",
       "360                      255.486099                  7531.051384\n",
       "361                      254.613336                  7927.237505\n",
       "362                      251.001909                  8012.896490\n",
       "363                      249.805053                  7910.540230\n",
       "364                      251.611712                  7891.733468"
      ]
     },
     "execution_count": 30,
     "metadata": {},
     "output_type": "execute_result"
    }
   ],
   "source": [
    "predictions.columns=['pred_new_hospitalized_patients','pred_new_persons_vaccinated']\n",
    "\n",
    "predictions"
   ]
  },
  {
   "cell_type": "code",
   "execution_count": 31,
   "id": "b9361d01",
   "metadata": {},
   "outputs": [],
   "source": [
    "test_vs_pred = pd.concat([test_df,predictions],axis=1)"
   ]
  },
  {
   "cell_type": "code",
   "execution_count": null,
   "id": "36312f5c",
   "metadata": {},
   "outputs": [],
   "source": []
  },
  {
   "cell_type": "code",
   "execution_count": 32,
   "id": "82f32c53",
   "metadata": {},
   "outputs": [
    {
     "data": {
      "text/plain": [
       "<AxesSubplot:>"
      ]
     },
     "execution_count": 32,
     "metadata": {},
     "output_type": "execute_result"
    },
    {
     "data": {
      "image/png": "[encoded data removed]",
      "text/plain": [
       "<Figure size 864x360 with 1 Axes>"
      ]
     },
     "metadata": {
      "needs_background": "light"
     },
     "output_type": "display_data"
    }
   ],
   "source": [
    "test_vs_pred.plot(figsize=(12,5))"
   ]
  },
  {
   "cell_type": "code",
   "execution_count": 33,
   "id": "6fbc5596",
   "metadata": {},
   "outputs": [
    {
     "name": "stdout",
     "output_type": "stream",
     "text": [
      "Mean value of hospitalized_patients is : 280.9. Root Mean Squared Error is :76.89303298032061\n",
      "Mean value of persons_vaccinated is : 5269.8. Root Mean Squared Error is :4309.507077074898\n"
     ]
    }
   ],
   "source": [
    "from sklearn.metrics import mean_squared_error\n",
    "import math \n",
    "from statistics import mean\n",
    "\n",
    "# 'pred_new_hospitalized_patients','pred_new_persons_vaccinated'\n",
    "\n",
    "rmse_ulc=math.sqrt(mean_squared_error(predictions['pred_new_hospitalized_patients'],test_df['new_hospitalized_patients']))\n",
    "print('Mean value of hospitalized_patients is : {}. Root Mean Squared Error is :{}'.format(mean(test_df['new_hospitalized_patients']),rmse_ulc))\n",
    "\n",
    "rmse_rgnp=math.sqrt(mean_squared_error(predictions['pred_new_persons_vaccinated'],test_df['new_persons_vaccinated']))\n",
    "print('Mean value of persons_vaccinated is : {}. Root Mean Squared Error is :{}'.format(mean(test_df['new_persons_vaccinated']),rmse_rgnp))\n",
    "\n",
    "\n",
    "\n",
    "# ['new_hospitalized_patients','new_persons_vaccinated']"
   ]
  },
  {
   "cell_type": "code",
   "execution_count": null,
   "id": "822c7366",
   "metadata": {},
   "outputs": [],
   "source": []
  },
  {
   "cell_type": "code",
   "execution_count": null,
   "id": "abb39571",
   "metadata": {},
   "outputs": [],
   "source": []
  },
  {
   "cell_type": "code",
   "execution_count": null,
   "id": "f357415a",
   "metadata": {},
   "outputs": [],
   "source": []
  },
  {
   "cell_type": "code",
   "execution_count": null,
   "id": "a283c16b",
   "metadata": {},
   "outputs": [],
   "source": []
  },
  {
   "cell_type": "code",
   "execution_count": null,
   "id": "e9ba0100",
   "metadata": {},
   "outputs": [],
   "source": []
  }
 ],
 "metadata": {
  "kernelspec": {
   "display_name": "Python 3 (ipykernel)",
   "language": "python",
   "name": "python3"
  },
  "language_info": {
   "codemirror_mode": {
    "name": "ipython",
    "version": 3
   },
   "file_extension": ".py",
   "mimetype": "text/x-python",
   "name": "python",
   "nbconvert_exporter": "python",
   "pygments_lexer": "ipython3",
   "version": "3.10.2"
  }
 },
 "nbformat": 4,
 "nbformat_minor": 5
}
