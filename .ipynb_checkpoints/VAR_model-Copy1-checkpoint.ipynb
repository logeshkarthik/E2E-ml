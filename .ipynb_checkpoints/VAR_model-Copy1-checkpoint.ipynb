{
 "cells": [
  {
   "cell_type": "code",
   "execution_count": 1,
   "id": "be577af1",
   "metadata": {},
   "outputs": [],
   "source": [
    "import pyspark\n",
    "from azure.storage.blob import BlobServiceClient\n",
    "from pyspark.sql import SparkSession\n",
    "from pyspark.sql.types import StructType, StructField, StringType, FloatType, DoubleType, IntegerType, LongType\n",
    "\n",
    "\n",
    "STORAGEACCOUNTURL = \"https://trainingbatchaccount.blob.core.windows.net\"\n",
    "STORAGEACCOUNTKEY = \"2QPPHsAtQ8/fh33VE7wqg/ZaeJoxdq/pnevAEmCh0n32tC5eXa8dTEEwMHdD9Ff5k1/wVh97aubqgKzQSwOLnQ==\"\n",
    "CONTAINERNAME = \"datasets\"\n",
    "# HOSPITALIZATION = \"economy.csv\"\n",
    "# INDEX = \"index.csv\"\n",
    "\n",
    "\n",
    "spark = SparkSession.builder.appName('azure').getOrCreate()\n",
    "spark.conf.set(\n",
    "        \"fs.azure.account.key.trainingbatchaccount.blob.core.windows.net\",\n",
    "        STORAGEACCOUNTKEY\n",
    "    \n",
    ")\n",
    "\n",
    "#-----------------------------Schema for hospitalizations dataset-------------------------------\n",
    "\n",
    "hospitalizations_schema = StructType([StructField(\"date\",StringType(), True),\\\n",
    "    StructField(\"location_key\",StringType(), True),\\\n",
    "    StructField(\"new_hospitalized_patients\", IntegerType(), True),\\\n",
    "    StructField(\"cumulative_hospitalized_patients\", IntegerType(), True),\\\n",
    "    StructField(\"current_hospitalized_patients\", IntegerType(), True),\\\n",
    "    StructField(\"new_intensive_care_patients\", IntegerType(), True),\\\n",
    "    StructField(\"cumulative_intensive_care_patients\", IntegerType(), True),\\\n",
    "    StructField(\"current_intensive_care_patients\", IntegerType(), True),\\\n",
    "    StructField(\"new_ventilator_patients\", StringType(), True),\\\n",
    "    StructField(\"cumulative_ventilator_patients\", StringType(), True),\\\n",
    "    StructField(\"current_ventilator_patients\", IntegerType(), True)])\n",
    "#-----------------------------Schema for vaccination dataset-------------------------------   \n",
    "vaccination_schema = StructType([StructField(\"date\",StringType(), True),\\\n",
    "    StructField(\"location_key\",StringType(), True),\\\n",
    "    StructField(\"new_persons_vaccinated\", IntegerType(), True),\\\n",
    "    StructField(\"cumulative_persons_vaccinated\", IntegerType(), True),\\\n",
    "    StructField(\"new_persons_fully_vaccinated\", IntegerType(), True),\\\n",
    "    StructField(\"cumulative_persons_fully_vaccinated\", IntegerType(), True),\\\n",
    "    StructField(\"new_vaccine_doses_administered\", IntegerType(), True),\\\n",
    "    StructField(\"cumulative_vaccine_doses_administered\", LongType(), True),\\\n",
    "    StructField(\"new_persons_vaccinated_pfizer\", IntegerType(), True),\\\n",
    "    StructField(\"cumulative_persons_vaccinated_pfizer\", IntegerType(), True),\\\n",
    "    StructField(\"new_persons_fully_vaccinated_pfizer\", IntegerType(), True),\\\n",
    "    StructField(\"cumulative_persons_fully_vaccinated_pfizer\", IntegerType(), True),\\\n",
    "    StructField(\"new_vaccine_doses_administered_pfizer\", IntegerType(), True),\\\n",
    "    StructField(\"cumulative_vaccine_doses_administered_pfizer\", IntegerType(), True),\\\n",
    "    StructField(\"new_persons_vaccinated_moderna\", IntegerType(), True),\\\n",
    "    StructField(\"cumulative_persons_vaccinated_moderna\", IntegerType(), True),\\\n",
    "    StructField(\"new_persons_fully_vaccinated_moderna\", IntegerType(), True),\\\n",
    "    StructField(\"cumulative_persons_fully_vaccinated_moderna\", IntegerType(), True),\\\n",
    "    StructField(\"new_vaccine_doses_administered_moderna\", IntegerType(), True),\\\n",
    "    StructField(\"cumulative_vaccine_doses_administered_moderna\", IntegerType(), True),\\\n",
    "    StructField(\"new_persons_vaccinated_janssen\", IntegerType(), True),\\\n",
    "    StructField(\"cumulative_persons_vaccinated_janssen\", IntegerType(), True),\\\n",
    "    StructField(\"new_persons_fully_vaccinated_janssen\", IntegerType(), True),\\\n",
    "    StructField(\"cumulative_persons_fully_vaccinated_janssen\", IntegerType(), True),\\\n",
    "    StructField(\"new_vaccine_doses_administered_janssen\", IntegerType(), True),\\\n",
    "    StructField(\"cumulative_vaccine_doses_administered_janssen\", IntegerType(), True),\\\n",
    "    StructField(\"new_persons_vaccinated_sinovac\", IntegerType(), True),\\\n",
    "    StructField(\"total_persons_vaccinated_sinovac\", IntegerType(), True),\\\n",
    "    StructField(\"new_persons_fully_vaccinated_sinovac\", StringType(), True),\\\n",
    "    StructField(\"total_persons_fully_vaccinated_sinovac\", StringType(), True),\\\n",
    "    StructField(\"new_vaccine_doses_administered_sinovac\", StringType(), True),\\\n",
    "    StructField(\"total_vaccine_doses_administered_sinovac\", StringType(), True)])\n",
    "  #-----------------------------Schema for epidemiology dataset-------------------------------\n",
    "\n",
    "epidemiology_schema = StructType([StructField(\"date\",StringType(), True),\\\n",
    "    StructField(\"location_key\",StringType(), True),\\\n",
    "    StructField(\"new_confirmed\", IntegerType(), True),\\\n",
    "    StructField(\"new_deceased\", IntegerType(), True),\\\n",
    "    StructField(\"new_recovered\", IntegerType(), True),\\\n",
    "    StructField(\"new_tested\", IntegerType(), True),\\\n",
    "    StructField(\"cumulative_confirmed\", IntegerType(), True),\\\n",
    "    StructField(\"cumulative_deceased\", IntegerType(), True),\\\n",
    "    StructField(\"cumulative_recovered\", IntegerType(), True),\\\n",
    "    StructField(\"cumulative_tested\", IntegerType(), True)])\n",
    "\n",
    "  \n",
    "\n",
    "hosp_df = spark.read.format('csv').option('header',True).schema(hospitalizations_schema).load(\"wasbs://datasets@trainingbatchaccount.blob.core.windows.net/hospitalizations.csv\")\n",
    "vacc_df = spark.read.format('csv').option('header',True).schema(vaccination_schema).load(\"wasbs://datasets@trainingbatchaccount.blob.core.windows.net/vaccinations.csv\")\n",
    "epi_df = spark.read.format('csv').option('header',True).schema(epidemiology_schema).load(\"wasbs://datasets@trainingbatchaccount.blob.core.windows.net/epidemiology.csv\")\n",
    "\n"
   ]
  },
  {
   "cell_type": "code",
   "execution_count": 76,
   "id": "3020cc02",
   "metadata": {},
   "outputs": [],
   "source": [
    "# to find shape of dataframe \n",
    "def sparkShape(dataFrame):\n",
    "    return (dataFrame.count(), len(dataFrame.columns))\n",
    "pyspark.sql.dataframe.DataFrame.shape = sparkShape\n",
    "\n",
    "spark.conf.set('spark.sql.repl.eagerEval.enabled', True)"
   ]
  },
  {
   "cell_type": "code",
   "execution_count": 41,
   "id": "a5c04b4b",
   "metadata": {},
   "outputs": [
    {
     "data": {
      "text/plain": [
       "(10909296, 10)"
      ]
     },
     "execution_count": 41,
     "metadata": {},
     "output_type": "execute_result"
    }
   ],
   "source": [
    "epi_df.shape()"
   ]
  },
  {
   "cell_type": "code",
   "execution_count": 42,
   "id": "45cbeaa6",
   "metadata": {},
   "outputs": [
    {
     "data": {
      "text/plain": [
       "(1783850, 8)"
      ]
     },
     "execution_count": 42,
     "metadata": {},
     "output_type": "execute_result"
    }
   ],
   "source": [
    "vacc_df.shape()"
   ]
  },
  {
   "cell_type": "code",
   "execution_count": 40,
   "id": "badfe496",
   "metadata": {},
   "outputs": [
    {
     "data": {
      "text/plain": [
       "(1048563, 9)"
      ]
     },
     "execution_count": 40,
     "metadata": {},
     "output_type": "execute_result"
    }
   ],
   "source": [
    "hosp_df.shape()"
   ]
  },
  {
   "cell_type": "code",
   "execution_count": 30,
   "id": "7c1100b4",
   "metadata": {},
   "outputs": [],
   "source": [
    "from pyspark.sql.functions import count, when,col,expr, udf, avg,to_date,broadcast,regexp_replace,last,lpad,concat_ws,date_format,year,month\n",
    "from pyspark.sql import Window\n",
    "import sys"
   ]
  },
  {
   "cell_type": "code",
   "execution_count": 20,
   "id": "19012675",
   "metadata": {},
   "outputs": [],
   "source": [
    "#---------------------------------Opening hospitalization dataset and cleaning it----------------\n",
    "\n",
    "hosp_df = hosp_df.withColumn('Date',to_date(hosp_df['date'],'dd-mm-yyyy'))\n",
    "#fill empty values with zero\n",
    "hosp_df = hosp_df.fillna(value = 0, subset = ['current_hospitalized_patients','current_intensive_care_patients','new_ventilator_patients','cumulative_ventilator_patients','current_ventilator_patients'])\n",
    "#drop unwanted column\n",
    "hosp_df = hosp_df.drop('cumulative_ventilator_patients','new_ventilator_patients')\n",
    "  "
   ]
  },
  {
   "cell_type": "code",
   "execution_count": 25,
   "id": "894f02b1",
   "metadata": {},
   "outputs": [],
   "source": [
    " #---------------------------------Opening epidemology dataset and cleaning it----------------\n",
    "    \n",
    "epi_df = epi_df.withColumn('date',to_date(epi_df['date'],format='yyyy-mm-dd'))\n",
    "epi_df = epi_df.na.fill(value=0)"
   ]
  },
  {
   "cell_type": "code",
   "execution_count": 32,
   "id": "b05879d3",
   "metadata": {},
   "outputs": [],
   "source": [
    " #---------------------------------Opening vaccination dataset and cleaning it----------------\n",
    "    \n",
    "#selecting needed columns only\n",
    "vacc_df = vacc_df.select(\"date\",\"location_key\",\"new_persons_vaccinated\",\"cumulative_persons_vaccinated\",\"new_persons_fully_vaccinated\",\"cumulative_persons_fully_vaccinated\",\"new_vaccine_doses_administered\",\"cumulative_vaccine_doses_administered\")\n",
    "\n",
    "        #Drop rows if all the values are null\n",
    "vacc_df = vacc_df.na.drop(subset=[\"new_persons_vaccinated\",\"cumulative_persons_vaccinated\",\"new_persons_fully_vaccinated\",\"cumulative_persons_fully_vaccinated\",\"new_vaccine_doses_administered\",\"cumulative_vaccine_doses_administered\"] ,how=\"all\")\n",
    "\n",
    "        #fill cumulative value with previous field value (Forward Fill)\n",
    "vacc_df = vacc_df.withColumn(\"cumulative_persons_vaccinated\", last('cumulative_persons_vaccinated', True).over(Window.partitionBy('location_key').rowsBetween(-sys.maxsize, 0)))\n",
    "vacc_df = vacc_df.withColumn(\"cumulative_persons_fully_vaccinated\",last('cumulative_persons_fully_vaccinated', True).over(Window.partitionBy('location_key').rowsBetween(-sys.maxsize, 0)))\n",
    "vacc_df = vacc_df.withColumn(\"cumulative_vaccine_doses_administered\",last('cumulative_vaccine_doses_administered', True).over(Window.partitionBy('location_key').rowsBetween(-sys.maxsize, 0)))\n",
    "\n",
    "        #replace null with zero\n",
    "vacc_df = vacc_df.na.fill(value=0)\n",
    "\n",
    "        #correct date format\n",
    "vacc_df = vacc_df.withColumn('Date',to_date(vacc_df['Date'],format='yyyy-mm-dd'))\n",
    "    "
   ]
  },
  {
   "cell_type": "code",
   "execution_count": 34,
   "id": "b8a7a8b1",
   "metadata": {},
   "outputs": [
    {
     "name": "stdout",
     "output_type": "stream",
     "text": [
      "root\n",
      " |-- Date: date (nullable = true)\n",
      " |-- location_key: string (nullable = true)\n",
      " |-- new_hospitalized_patients: integer (nullable = true)\n",
      " |-- cumulative_hospitalized_patients: integer (nullable = true)\n",
      " |-- current_hospitalized_patients: integer (nullable = true)\n",
      " |-- new_intensive_care_patients: integer (nullable = true)\n",
      " |-- cumulative_intensive_care_patients: integer (nullable = true)\n",
      " |-- current_intensive_care_patients: integer (nullable = true)\n",
      " |-- current_ventilator_patients: integer (nullable = true)\n",
      "\n",
      "root\n",
      " |-- Date: date (nullable = true)\n",
      " |-- location_key: string (nullable = true)\n",
      " |-- new_persons_vaccinated: integer (nullable = true)\n",
      " |-- cumulative_persons_vaccinated: integer (nullable = true)\n",
      " |-- new_persons_fully_vaccinated: integer (nullable = true)\n",
      " |-- cumulative_persons_fully_vaccinated: integer (nullable = true)\n",
      " |-- new_vaccine_doses_administered: integer (nullable = true)\n",
      " |-- cumulative_vaccine_doses_administered: long (nullable = true)\n",
      "\n"
     ]
    }
   ],
   "source": [
    "hosp_df.printSchema()\n",
    "vacc_df.printSchema()"
   ]
  },
  {
   "cell_type": "code",
   "execution_count": 61,
   "id": "0eb01a11",
   "metadata": {},
   "outputs": [],
   "source": [
    "# adding a date string column to each dataframe \n",
    "\n",
    "hosp_df = hosp_df.withColumn(\"Date_string\",hosp_df.Date.cast(StringType()))\n",
    "hosp_df = hosp_df.where(hosp_df.location_key == 'AR')\n",
    "vacc_df = vacc_df.withColumn(\"Date_string\",vacc_df.Date.cast(StringType()))\n",
    "vacc_df = vacc_df.where(vacc_df.location_key == 'AR')"
   ]
  },
  {
   "cell_type": "code",
   "execution_count": 81,
   "id": "3c62594e",
   "metadata": {},
   "outputs": [
    {
     "data": {
      "text/plain": [
       "(141, 8)"
      ]
     },
     "execution_count": 81,
     "metadata": {},
     "output_type": "execute_result"
    }
   ],
   "source": [
    "# aggregating date field\n",
    "\n",
    "hosp_df= hosp_df.groupby(\"Date\").sum()\n",
    "vacc_df= vacc_df.groupby(\"Date\").sum()\n",
    "hosp_df.shape()\n"
   ]
  },
  {
   "cell_type": "code",
   "execution_count": 82,
   "id": "3dfcff3d",
   "metadata": {},
   "outputs": [
    {
     "data": {
      "text/plain": [
       "(65, 7)"
      ]
     },
     "execution_count": 82,
     "metadata": {},
     "output_type": "execute_result"
    }
   ],
   "source": [
    "vacc_df.shape()"
   ]
  },
  {
   "cell_type": "code",
   "execution_count": 78,
   "id": "7d885108",
   "metadata": {},
   "outputs": [],
   "source": [
    "hosp_df.toPandas().to_csv('hosp_df.csv')\n"
   ]
  },
  {
   "cell_type": "code",
   "execution_count": 66,
   "id": "299945bc",
   "metadata": {},
   "outputs": [
    {
     "data": {
      "text/plain": [
       "(433, 9)"
      ]
     },
     "execution_count": 66,
     "metadata": {},
     "output_type": "execute_result"
    }
   ],
   "source": [
    "vacc_df.shape()"
   ]
  },
  {
   "cell_type": "code",
   "execution_count": 84,
   "id": "8ae7e864",
   "metadata": {},
   "outputs": [],
   "source": [
    "# joining \n",
    "# hosp_df\n",
    "# vacc_df\n",
    "\n",
    "\n",
    "cond = ((hosp_df['Date'] == vacc_df['Date']))\n",
    "df_hosp_vacc = hosp_df.join(vacc_df, on = cond ,how = 'inner')\n"
   ]
  },
  {
   "cell_type": "code",
   "execution_count": 85,
   "id": "c0596be9",
   "metadata": {},
   "outputs": [
    {
     "data": {
      "text/plain": [
       "(65, 15)"
      ]
     },
     "execution_count": 85,
     "metadata": {},
     "output_type": "execute_result"
    }
   ],
   "source": [
    "df_hosp_vacc.shape()"
   ]
  },
  {
   "cell_type": "code",
   "execution_count": 87,
   "id": "a515a736",
   "metadata": {},
   "outputs": [],
   "source": [
    "df_hosp_vacc.toPandas().to_csv(\"df_hosp_vacc.csv\")"
   ]
  },
  {
   "cell_type": "code",
   "execution_count": 75,
   "id": "ef0639e0",
   "metadata": {},
   "outputs": [
    {
     "name": "stdout",
     "output_type": "stream",
     "text": [
      "+----------+------------+-------------------------+--------------------------------+-----------------------------+---------------------------+----------------------------------+-------------------------------+---------------------------+-----------+----------+----------------------+-----------------------------+----------------------------+-----------------------------------+------------------------------+-------------------------------------+-----------+\n",
      "|      Date|location_key|new_hospitalized_patients|cumulative_hospitalized_patients|current_hospitalized_patients|new_intensive_care_patients|cumulative_intensive_care_patients|current_intensive_care_patients|current_ventilator_patients|Date_string|      Date|new_persons_vaccinated|cumulative_persons_vaccinated|new_persons_fully_vaccinated|cumulative_persons_fully_vaccinated|new_vaccine_doses_administered|cumulative_vaccine_doses_administered|Date_string|\n",
      "+----------+------------+-------------------------+--------------------------------+-----------------------------+---------------------------+----------------------------------+-------------------------------+---------------------------+-----------+----------+----------------------+-----------------------------+----------------------------+-----------------------------------+------------------------------+-------------------------------------+-----------+\n",
      "|2020-01-29|          AR|                      594|                          232180|                            0|                        108|                             37092|                              0|                          0| 2020-01-29|2020-01-29|                  2862|                         2862|                           0|                                  0|                          2862|                                 2862| 2020-01-29|\n",
      "|2020-01-29|          AR|                      470|                          217525|                            0|                         88|                             34393|                              0|                          0| 2020-01-29|2020-01-29|                  2862|                         2862|                           0|                                  0|                          2862|                                 2862| 2020-01-29|\n",
      "|2020-01-29|          AR|                      760|                          198277|                            0|                        145|                             30575|                              0|                          0| 2020-01-29|2020-01-29|                  2862|                         2862|                           0|                                  0|                          2862|                                 2862| 2020-01-29|\n",
      "|2020-01-29|          AR|                     1239|                          170238|                            0|                        197|                             25492|                              0|                          0| 2020-01-29|2020-01-29|                  2862|                         2862|                           0|                                  0|                          2862|                                 2862| 2020-01-29|\n",
      "|2020-01-29|          AR|                      941|                          136365|                            0|                        151|                             20153|                              0|                          0| 2020-01-29|2020-01-29|                  2862|                         2862|                           0|                                  0|                          2862|                                 2862| 2020-01-29|\n",
      "|2020-01-29|          AR|                     1028|                          104401|                            0|                        141|                             15347|                              0|                          0| 2020-01-29|2020-01-29|                  2862|                         2862|                           0|                                  0|                          2862|                                 2862| 2020-01-29|\n",
      "|2020-01-29|          AR|                     1108|                           73010|                            0|                        140|                             10750|                              0|                          0| 2020-01-29|2020-01-29|                  2862|                         2862|                           0|                                  0|                          2862|                                 2862| 2020-01-29|\n",
      "|2020-01-29|          AR|                      874|                           42720|                            0|                        149|                              6346|                              0|                          0| 2020-01-29|2020-01-29|                  2862|                         2862|                           0|                                  0|                          2862|                                 2862| 2020-01-29|\n",
      "|2020-01-29|          AR|                      655|                           21011|                            0|                         84|                              3049|                              0|                          0| 2020-01-29|2020-01-29|                  2862|                         2862|                           0|                                  0|                          2862|                                 2862| 2020-01-29|\n",
      "|2020-01-29|          AR|                      241|                            3013|                            0|                         43|                               546|                              0|                          0| 2020-01-29|2020-01-29|                  2862|                         2862|                           0|                                  0|                          2862|                                 2862| 2020-01-29|\n",
      "|2020-01-29|          AR|                        2|                              38|                            0|                          2|                                 7|                              0|                          0| 2020-01-29|2020-01-29|                  2862|                         2862|                           0|                                  0|                          2862|                                 2862| 2020-01-29|\n",
      "|2020-01-29|          AR|                        0|                              10|                            0|                          0|                                 4|                              0|                          0| 2020-01-29|2020-01-29|                  2862|                         2862|                           0|                                  0|                          2862|                                 2862| 2020-01-29|\n",
      "|2020-01-30|          AR|                      553|                          232733|                            0|                        100|                             37192|                              0|                          0| 2020-01-30|2020-01-30|                  2760|                         5622|                           0|                                  0|                          2760|                                 5622| 2020-01-30|\n",
      "|2020-01-30|          AR|                      617|                          218142|                            0|                         94|                             34487|                              0|                          0| 2020-01-30|2020-01-30|                  2760|                         5622|                           0|                                  0|                          2760|                                 5622| 2020-01-30|\n",
      "|2020-01-30|          AR|                      702|                          198979|                            0|                        148|                             30723|                              0|                          0| 2020-01-30|2020-01-30|                  2760|                         5622|                           0|                                  0|                          2760|                                 5622| 2020-01-30|\n",
      "|2020-01-30|          AR|                     1265|                          171503|                            0|                        182|                             25674|                              0|                          0| 2020-01-30|2020-01-30|                  2760|                         5622|                           0|                                  0|                          2760|                                 5622| 2020-01-30|\n",
      "|2020-01-30|          AR|                      834|                          137199|                            0|                        138|                             20291|                              0|                          0| 2020-01-30|2020-01-30|                  2760|                         5622|                           0|                                  0|                          2760|                                 5622| 2020-01-30|\n",
      "|2020-01-30|          AR|                      956|                          105357|                            0|                        159|                             15506|                              0|                          0| 2020-01-30|2020-01-30|                  2760|                         5622|                           0|                                  0|                          2760|                                 5622| 2020-01-30|\n",
      "|2020-01-30|          AR|                      980|                           73990|                            0|                        157|                             10907|                              0|                          0| 2020-01-30|2020-01-30|                  2760|                         5622|                           0|                                  0|                          2760|                                 5622| 2020-01-30|\n",
      "|2020-01-30|          AR|                      774|                           43494|                            0|                        138|                              6484|                              0|                          0| 2020-01-30|2020-01-30|                  2760|                         5622|                           0|                                  0|                          2760|                                 5622| 2020-01-30|\n",
      "+----------+------------+-------------------------+--------------------------------+-----------------------------+---------------------------+----------------------------------+-------------------------------+---------------------------+-----------+----------+----------------------+-----------------------------+----------------------------+-----------------------------------+------------------------------+-------------------------------------+-----------+\n",
      "only showing top 20 rows\n",
      "\n"
     ]
    }
   ],
   "source": [
    "df_hosp_vacc.show()"
   ]
  },
  {
   "cell_type": "code",
   "execution_count": 37,
   "id": "0c429b38",
   "metadata": {},
   "outputs": [
    {
     "name": "stdout",
     "output_type": "stream",
     "text": [
      "root\n",
      " |-- Date: date (nullable = true)\n",
      " |-- location_key: string (nullable = true)\n",
      " |-- new_hospitalized_patients: integer (nullable = true)\n",
      " |-- cumulative_hospitalized_patients: integer (nullable = true)\n",
      " |-- current_hospitalized_patients: integer (nullable = true)\n",
      " |-- new_intensive_care_patients: integer (nullable = true)\n",
      " |-- cumulative_intensive_care_patients: integer (nullable = true)\n",
      " |-- current_intensive_care_patients: integer (nullable = true)\n",
      " |-- current_ventilator_patients: integer (nullable = true)\n",
      " |-- new_persons_vaccinated: integer (nullable = true)\n",
      " |-- cumulative_persons_vaccinated: integer (nullable = true)\n",
      " |-- new_persons_fully_vaccinated: integer (nullable = true)\n",
      " |-- cumulative_persons_fully_vaccinated: integer (nullable = true)\n",
      " |-- new_vaccine_doses_administered: integer (nullable = true)\n",
      " |-- cumulative_vaccine_doses_administered: long (nullable = true)\n",
      "\n"
     ]
    }
   ],
   "source": [
    "df_hosp_vacc.printSchema()\n",
    "\n"
   ]
  },
  {
   "cell_type": "code",
   "execution_count": null,
   "id": "99b661a1",
   "metadata": {},
   "outputs": [],
   "source": [
    "# joining \n",
    "# df_hosp_vacc\n",
    "# epi_df"
   ]
  }
 ],
 "metadata": {
  "kernelspec": {
   "display_name": "Python 3 (ipykernel)",
   "language": "python",
   "name": "python3"
  },
  "language_info": {
   "codemirror_mode": {
    "name": "ipython",
    "version": 3
   },
   "file_extension": ".py",
   "mimetype": "text/x-python",
   "name": "python",
   "nbconvert_exporter": "python",
   "pygments_lexer": "ipython3",
   "version": "3.10.2"
  }
 },
 "nbformat": 4,
 "nbformat_minor": 5
}
